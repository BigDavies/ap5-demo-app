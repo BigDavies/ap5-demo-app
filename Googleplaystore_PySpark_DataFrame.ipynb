{
  "nbformat": 4,
  "nbformat_minor": 0,
  "metadata": {
    "colab": {
      "private_outputs": true,
      "provenance": [],
      "mount_file_id": "1bYwFMpvbvUN7oiQMG_g_RMZR2PvoLzlB",
      "authorship_tag": "ABX9TyPGQk2ioc+eNdLTyH8zC41u",
      "include_colab_link": true
    },
    "kernelspec": {
      "name": "python3",
      "display_name": "Python 3"
    },
    "language_info": {
      "name": "python"
    }
  },
  "cells": [
    {
      "cell_type": "markdown",
      "metadata": {
        "id": "view-in-github",
        "colab_type": "text"
      },
      "source": [
        "<a href=\"https://colab.research.google.com/github/BigDavies/ap5-demo-app/blob/master/Googleplaystore_PySpark_DataFrame.ipynb\" target=\"_parent\"><img src=\"https://colab.research.google.com/assets/colab-badge.svg\" alt=\"Open In Colab\"/></a>"
      ]
    },
    {
      "cell_type": "code",
      "execution_count": null,
      "metadata": {
        "id": "jKhTGrvVnBPv"
      },
      "outputs": [],
      "source": [
        "#Install Java Development kit for Spark\n",
        "!apt-get install openjdk-8-jdk"
      ]
    },
    {
      "cell_type": "code",
      "source": [
        "import os\n",
        "#Set the JAVA_HOME env variable\n",
        "os.environ[\"JAVA_HOME\"]=\"/usr/lib/jvm/java-8-openjdk-amd64\""
      ],
      "metadata": {
        "id": "E-ypwHlPnQOh"
      },
      "execution_count": null,
      "outputs": []
    },
    {
      "cell_type": "code",
      "source": [
        "#Current working directory\n",
        "!pwd"
      ],
      "metadata": {
        "id": "PhkAazNQnVG_"
      },
      "execution_count": null,
      "outputs": []
    },
    {
      "cell_type": "code",
      "source": [
        "!echo $JAVA_HOME"
      ],
      "metadata": {
        "id": "m8G5_alpnYV9"
      },
      "execution_count": null,
      "outputs": []
    },
    {
      "cell_type": "code",
      "source": [
        "#Install PySpark with latest version\n",
        "!pip install pyspark"
      ],
      "metadata": {
        "id": "9SdAYOYrna9d"
      },
      "execution_count": null,
      "outputs": []
    },
    {
      "cell_type": "code",
      "source": [
        "#mount your drive\n",
        "from google.colab import drive\n",
        "drive.mount('/content/drive')"
      ],
      "metadata": {
        "id": "5dVptAMIneHc"
      },
      "execution_count": null,
      "outputs": []
    },
    {
      "cell_type": "code",
      "source": [
        "from pyspark.sql import SparkSession\n",
        "spark = SparkSession.builder.appName(\"Spark DataFrames\").getOrCreate()\n"
      ],
      "metadata": {
        "id": "e09akjASnidS"
      },
      "execution_count": null,
      "outputs": []
    },
    {
      "cell_type": "code",
      "source": [
        "df = spark.read.csv('/googleplaystore.csv')\n",
        "df.show()"
      ],
      "metadata": {
        "id": "sh2UO-oynmpy"
      },
      "execution_count": null,
      "outputs": []
    },
    {
      "cell_type": "code",
      "source": [
        "df=spark.read.options(header=True, inferSchema=True).csv('/googleplaystore.csv')\n",
        "df.show()"
      ],
      "metadata": {
        "id": "hsyZI5emnyDw"
      },
      "execution_count": null,
      "outputs": []
    },
    {
      "cell_type": "code",
      "source": [
        "#displays structure of dataframe\n",
        "df.printSchema()"
      ],
      "metadata": {
        "id": "m8Q9GHyiEB0q"
      },
      "execution_count": null,
      "outputs": []
    },
    {
      "cell_type": "code",
      "source": [
        "from pyspark.sql.functions import col, lit"
      ],
      "metadata": {
        "id": "G-9Lll9fFi0x"
      },
      "execution_count": null,
      "outputs": []
    },
    {
      "cell_type": "code",
      "source": [
        "#data type casting\n",
        "df = df.withColumn(\"Price\", col(\"Price\").cast(\"Int\"))\n",
        "df.show()"
      ],
      "metadata": {
        "id": "caPxZ849bed8"
      },
      "execution_count": null,
      "outputs": []
    },
    {
      "cell_type": "code",
      "source": [
        "df.printSchema()"
      ],
      "metadata": {
        "id": "YU6SeT54bzsK"
      },
      "execution_count": null,
      "outputs": []
    },
    {
      "cell_type": "code",
      "source": [
        "#update column\n",
        "df= df.withColumn(\"Price\", col(\"Price\")+1000)\n",
        "df.show(5)"
      ],
      "metadata": {
        "id": "LCTEaTEbb4Ix"
      },
      "execution_count": null,
      "outputs": []
    }
  ]
}