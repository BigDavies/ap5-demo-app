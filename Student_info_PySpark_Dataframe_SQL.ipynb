{
  "cells": [
    {
      "cell_type": "markdown",
      "metadata": {
        "id": "view-in-github",
        "colab_type": "text"
      },
      "source": [
        "<a href=\"https://colab.research.google.com/github/BigDavies/ap5-demo-app/blob/master/Student_info_PySpark_Dataframe_SQL.ipynb\" target=\"_parent\"><img src=\"https://colab.research.google.com/assets/colab-badge.svg\" alt=\"Open In Colab\"/></a>"
      ]
    },
    {
      "cell_type": "code",
      "source": [
        "#Install Java Development kit for Spark\n",
        "!apt-get install openjdk-8-jdk\n"
      ],
      "metadata": {
        "colab": {
          "base_uri": "https://localhost:8080/"
        },
        "id": "vH_es-tTfnZQ",
        "outputId": "49d95a2a-d874-4ff5-cc72-3b422fe14474"
      },
      "execution_count": 1,
      "outputs": [
        {
          "output_type": "stream",
          "name": "stdout",
          "text": [
            "Reading package lists... Done\n",
            "Building dependency tree... Done\n",
            "Reading state information... Done\n",
            "The following additional packages will be installed:\n",
            "  fonts-dejavu-core fonts-dejavu-extra libatk-wrapper-java libatk-wrapper-java-jni libfontenc1\n",
            "  libgail-common libgail18 libgtk2.0-0 libgtk2.0-bin libgtk2.0-common libice-dev librsvg2-common\n",
            "  libsm-dev libxkbfile1 libxt-dev libxtst6 libxxf86dga1 openjdk-8-jdk-headless openjdk-8-jre\n",
            "  openjdk-8-jre-headless x11-utils\n",
            "Suggested packages:\n",
            "  gvfs libice-doc libsm-doc libxt-doc openjdk-8-demo openjdk-8-source visualvm libnss-mdns\n",
            "  fonts-nanum fonts-ipafont-gothic fonts-ipafont-mincho fonts-wqy-microhei fonts-wqy-zenhei\n",
            "  fonts-indic mesa-utils\n",
            "The following NEW packages will be installed:\n",
            "  fonts-dejavu-core fonts-dejavu-extra libatk-wrapper-java libatk-wrapper-java-jni libfontenc1\n",
            "  libgail-common libgail18 libgtk2.0-0 libgtk2.0-bin libgtk2.0-common libice-dev librsvg2-common\n",
            "  libsm-dev libxkbfile1 libxt-dev libxtst6 libxxf86dga1 openjdk-8-jdk openjdk-8-jdk-headless\n",
            "  openjdk-8-jre openjdk-8-jre-headless x11-utils\n",
            "0 upgraded, 22 newly installed, 0 to remove and 45 not upgraded.\n",
            "Need to get 50.1 MB of archives.\n",
            "After this operation, 169 MB of additional disk space will be used.\n",
            "Get:1 http://archive.ubuntu.com/ubuntu jammy/main amd64 fonts-dejavu-core all 2.37-2build1 [1,041 kB]\n",
            "Get:2 http://archive.ubuntu.com/ubuntu jammy/main amd64 fonts-dejavu-extra all 2.37-2build1 [2,041 kB]\n",
            "Get:3 http://archive.ubuntu.com/ubuntu jammy/main amd64 libfontenc1 amd64 1:1.1.4-1build3 [14.7 kB]\n",
            "Get:4 http://archive.ubuntu.com/ubuntu jammy/main amd64 libxkbfile1 amd64 1:1.1.0-1build3 [71.8 kB]\n",
            "Get:5 http://archive.ubuntu.com/ubuntu jammy/main amd64 libxtst6 amd64 2:1.2.3-1build4 [13.4 kB]\n",
            "Get:6 http://archive.ubuntu.com/ubuntu jammy/main amd64 libxxf86dga1 amd64 2:1.1.5-0ubuntu3 [12.6 kB]\n",
            "Get:7 http://archive.ubuntu.com/ubuntu jammy/main amd64 x11-utils amd64 7.7+5build2 [206 kB]\n",
            "Get:8 http://archive.ubuntu.com/ubuntu jammy/main amd64 libatk-wrapper-java all 0.38.0-5build1 [53.1 kB]\n",
            "Get:9 http://archive.ubuntu.com/ubuntu jammy/main amd64 libatk-wrapper-java-jni amd64 0.38.0-5build1 [49.0 kB]\n",
            "Get:10 http://archive.ubuntu.com/ubuntu jammy/main amd64 libgtk2.0-common all 2.24.33-2ubuntu2 [125 kB]\n",
            "Get:11 http://archive.ubuntu.com/ubuntu jammy/main amd64 libgtk2.0-0 amd64 2.24.33-2ubuntu2 [2,037 kB]\n",
            "Get:12 http://archive.ubuntu.com/ubuntu jammy/main amd64 libgail18 amd64 2.24.33-2ubuntu2 [15.9 kB]\n",
            "Get:13 http://archive.ubuntu.com/ubuntu jammy/main amd64 libgail-common amd64 2.24.33-2ubuntu2 [132 kB]\n",
            "Get:14 http://archive.ubuntu.com/ubuntu jammy/main amd64 libgtk2.0-bin amd64 2.24.33-2ubuntu2 [7,932 B]\n",
            "Get:15 http://archive.ubuntu.com/ubuntu jammy/main amd64 libice-dev amd64 2:1.0.10-1build2 [51.4 kB]\n",
            "Get:16 http://archive.ubuntu.com/ubuntu jammy-updates/main amd64 librsvg2-common amd64 2.52.5+dfsg-3ubuntu0.2 [17.7 kB]\n",
            "Get:17 http://archive.ubuntu.com/ubuntu jammy/main amd64 libsm-dev amd64 2:1.2.3-1build2 [18.1 kB]\n",
            "Get:18 http://archive.ubuntu.com/ubuntu jammy/main amd64 libxt-dev amd64 1:1.2.1-1 [396 kB]\n",
            "Get:19 http://archive.ubuntu.com/ubuntu jammy-updates/universe amd64 openjdk-8-jre-headless amd64 8u402-ga-2ubuntu1~22.04 [30.8 MB]\n",
            "Get:20 http://archive.ubuntu.com/ubuntu jammy-updates/universe amd64 openjdk-8-jre amd64 8u402-ga-2ubuntu1~22.04 [75.5 kB]\n",
            "Get:21 http://archive.ubuntu.com/ubuntu jammy-updates/universe amd64 openjdk-8-jdk-headless amd64 8u402-ga-2ubuntu1~22.04 [8,873 kB]\n",
            "Get:22 http://archive.ubuntu.com/ubuntu jammy-updates/universe amd64 openjdk-8-jdk amd64 8u402-ga-2ubuntu1~22.04 [4,068 kB]\n",
            "Fetched 50.1 MB in 6s (8,142 kB/s)\n",
            "Selecting previously unselected package fonts-dejavu-core.\n",
            "(Reading database ... 131015 files and directories currently installed.)\n",
            "Preparing to unpack .../00-fonts-dejavu-core_2.37-2build1_all.deb ...\n",
            "Unpacking fonts-dejavu-core (2.37-2build1) ...\n",
            "Selecting previously unselected package fonts-dejavu-extra.\n",
            "Preparing to unpack .../01-fonts-dejavu-extra_2.37-2build1_all.deb ...\n",
            "Unpacking fonts-dejavu-extra (2.37-2build1) ...\n",
            "Selecting previously unselected package libfontenc1:amd64.\n",
            "Preparing to unpack .../02-libfontenc1_1%3a1.1.4-1build3_amd64.deb ...\n",
            "Unpacking libfontenc1:amd64 (1:1.1.4-1build3) ...\n",
            "Selecting previously unselected package libxkbfile1:amd64.\n",
            "Preparing to unpack .../03-libxkbfile1_1%3a1.1.0-1build3_amd64.deb ...\n",
            "Unpacking libxkbfile1:amd64 (1:1.1.0-1build3) ...\n",
            "Selecting previously unselected package libxtst6:amd64.\n",
            "Preparing to unpack .../04-libxtst6_2%3a1.2.3-1build4_amd64.deb ...\n",
            "Unpacking libxtst6:amd64 (2:1.2.3-1build4) ...\n",
            "Selecting previously unselected package libxxf86dga1:amd64.\n",
            "Preparing to unpack .../05-libxxf86dga1_2%3a1.1.5-0ubuntu3_amd64.deb ...\n",
            "Unpacking libxxf86dga1:amd64 (2:1.1.5-0ubuntu3) ...\n",
            "Selecting previously unselected package x11-utils.\n",
            "Preparing to unpack .../06-x11-utils_7.7+5build2_amd64.deb ...\n",
            "Unpacking x11-utils (7.7+5build2) ...\n",
            "Selecting previously unselected package libatk-wrapper-java.\n",
            "Preparing to unpack .../07-libatk-wrapper-java_0.38.0-5build1_all.deb ...\n",
            "Unpacking libatk-wrapper-java (0.38.0-5build1) ...\n",
            "Selecting previously unselected package libatk-wrapper-java-jni:amd64.\n",
            "Preparing to unpack .../08-libatk-wrapper-java-jni_0.38.0-5build1_amd64.deb ...\n",
            "Unpacking libatk-wrapper-java-jni:amd64 (0.38.0-5build1) ...\n",
            "Selecting previously unselected package libgtk2.0-common.\n",
            "Preparing to unpack .../09-libgtk2.0-common_2.24.33-2ubuntu2_all.deb ...\n",
            "Unpacking libgtk2.0-common (2.24.33-2ubuntu2) ...\n",
            "Selecting previously unselected package libgtk2.0-0:amd64.\n",
            "Preparing to unpack .../10-libgtk2.0-0_2.24.33-2ubuntu2_amd64.deb ...\n",
            "Unpacking libgtk2.0-0:amd64 (2.24.33-2ubuntu2) ...\n",
            "Selecting previously unselected package libgail18:amd64.\n",
            "Preparing to unpack .../11-libgail18_2.24.33-2ubuntu2_amd64.deb ...\n",
            "Unpacking libgail18:amd64 (2.24.33-2ubuntu2) ...\n",
            "Selecting previously unselected package libgail-common:amd64.\n",
            "Preparing to unpack .../12-libgail-common_2.24.33-2ubuntu2_amd64.deb ...\n",
            "Unpacking libgail-common:amd64 (2.24.33-2ubuntu2) ...\n",
            "Selecting previously unselected package libgtk2.0-bin.\n",
            "Preparing to unpack .../13-libgtk2.0-bin_2.24.33-2ubuntu2_amd64.deb ...\n",
            "Unpacking libgtk2.0-bin (2.24.33-2ubuntu2) ...\n",
            "Selecting previously unselected package libice-dev:amd64.\n",
            "Preparing to unpack .../14-libice-dev_2%3a1.0.10-1build2_amd64.deb ...\n",
            "Unpacking libice-dev:amd64 (2:1.0.10-1build2) ...\n",
            "Selecting previously unselected package librsvg2-common:amd64.\n",
            "Preparing to unpack .../15-librsvg2-common_2.52.5+dfsg-3ubuntu0.2_amd64.deb ...\n",
            "Unpacking librsvg2-common:amd64 (2.52.5+dfsg-3ubuntu0.2) ...\n",
            "Selecting previously unselected package libsm-dev:amd64.\n",
            "Preparing to unpack .../16-libsm-dev_2%3a1.2.3-1build2_amd64.deb ...\n",
            "Unpacking libsm-dev:amd64 (2:1.2.3-1build2) ...\n",
            "Selecting previously unselected package libxt-dev:amd64.\n",
            "Preparing to unpack .../17-libxt-dev_1%3a1.2.1-1_amd64.deb ...\n",
            "Unpacking libxt-dev:amd64 (1:1.2.1-1) ...\n",
            "Selecting previously unselected package openjdk-8-jre-headless:amd64.\n",
            "Preparing to unpack .../18-openjdk-8-jre-headless_8u402-ga-2ubuntu1~22.04_amd64.deb ...\n",
            "Unpacking openjdk-8-jre-headless:amd64 (8u402-ga-2ubuntu1~22.04) ...\n",
            "Selecting previously unselected package openjdk-8-jre:amd64.\n",
            "Preparing to unpack .../19-openjdk-8-jre_8u402-ga-2ubuntu1~22.04_amd64.deb ...\n",
            "Unpacking openjdk-8-jre:amd64 (8u402-ga-2ubuntu1~22.04) ...\n",
            "Selecting previously unselected package openjdk-8-jdk-headless:amd64.\n",
            "Preparing to unpack .../20-openjdk-8-jdk-headless_8u402-ga-2ubuntu1~22.04_amd64.deb ...\n",
            "Unpacking openjdk-8-jdk-headless:amd64 (8u402-ga-2ubuntu1~22.04) ...\n",
            "Selecting previously unselected package openjdk-8-jdk:amd64.\n",
            "Preparing to unpack .../21-openjdk-8-jdk_8u402-ga-2ubuntu1~22.04_amd64.deb ...\n",
            "Unpacking openjdk-8-jdk:amd64 (8u402-ga-2ubuntu1~22.04) ...\n",
            "Setting up libice-dev:amd64 (2:1.0.10-1build2) ...\n",
            "Setting up libsm-dev:amd64 (2:1.2.3-1build2) ...\n",
            "Setting up libxtst6:amd64 (2:1.2.3-1build4) ...\n",
            "Setting up libxxf86dga1:amd64 (2:1.1.5-0ubuntu3) ...\n",
            "Setting up libfontenc1:amd64 (1:1.1.4-1build3) ...\n",
            "Setting up libxt-dev:amd64 (1:1.2.1-1) ...\n",
            "Setting up openjdk-8-jre-headless:amd64 (8u402-ga-2ubuntu1~22.04) ...\n",
            "update-alternatives: using /usr/lib/jvm/java-8-openjdk-amd64/jre/bin/orbd to provide /usr/bin/orbd (orbd) in auto mode\n",
            "update-alternatives: using /usr/lib/jvm/java-8-openjdk-amd64/jre/bin/servertool to provide /usr/bin/servertool (servertool) in auto mode\n",
            "update-alternatives: using /usr/lib/jvm/java-8-openjdk-amd64/jre/bin/tnameserv to provide /usr/bin/tnameserv (tnameserv) in auto mode\n",
            "Setting up fonts-dejavu-core (2.37-2build1) ...\n",
            "Setting up librsvg2-common:amd64 (2.52.5+dfsg-3ubuntu0.2) ...\n",
            "Setting up fonts-dejavu-extra (2.37-2build1) ...\n",
            "Setting up libgtk2.0-common (2.24.33-2ubuntu2) ...\n",
            "Setting up libxkbfile1:amd64 (1:1.1.0-1build3) ...\n",
            "Setting up libgtk2.0-0:amd64 (2.24.33-2ubuntu2) ...\n",
            "Setting up openjdk-8-jdk-headless:amd64 (8u402-ga-2ubuntu1~22.04) ...\n",
            "update-alternatives: using /usr/lib/jvm/java-8-openjdk-amd64/bin/clhsdb to provide /usr/bin/clhsdb (clhsdb) in auto mode\n",
            "update-alternatives: using /usr/lib/jvm/java-8-openjdk-amd64/bin/extcheck to provide /usr/bin/extcheck (extcheck) in auto mode\n",
            "update-alternatives: using /usr/lib/jvm/java-8-openjdk-amd64/bin/hsdb to provide /usr/bin/hsdb (hsdb) in auto mode\n",
            "update-alternatives: using /usr/lib/jvm/java-8-openjdk-amd64/bin/idlj to provide /usr/bin/idlj (idlj) in auto mode\n",
            "update-alternatives: using /usr/lib/jvm/java-8-openjdk-amd64/bin/javah to provide /usr/bin/javah (javah) in auto mode\n",
            "update-alternatives: using /usr/lib/jvm/java-8-openjdk-amd64/bin/jhat to provide /usr/bin/jhat (jhat) in auto mode\n",
            "update-alternatives: using /usr/lib/jvm/java-8-openjdk-amd64/bin/jsadebugd to provide /usr/bin/jsadebugd (jsadebugd) in auto mode\n",
            "update-alternatives: using /usr/lib/jvm/java-8-openjdk-amd64/bin/native2ascii to provide /usr/bin/native2ascii (native2ascii) in auto mode\n",
            "update-alternatives: using /usr/lib/jvm/java-8-openjdk-amd64/bin/schemagen to provide /usr/bin/schemagen (schemagen) in auto mode\n",
            "update-alternatives: using /usr/lib/jvm/java-8-openjdk-amd64/bin/wsgen to provide /usr/bin/wsgen (wsgen) in auto mode\n",
            "update-alternatives: using /usr/lib/jvm/java-8-openjdk-amd64/bin/wsimport to provide /usr/bin/wsimport (wsimport) in auto mode\n",
            "update-alternatives: using /usr/lib/jvm/java-8-openjdk-amd64/bin/xjc to provide /usr/bin/xjc (xjc) in auto mode\n",
            "Setting up libgail18:amd64 (2.24.33-2ubuntu2) ...\n",
            "Setting up libgtk2.0-bin (2.24.33-2ubuntu2) ...\n",
            "Setting up x11-utils (7.7+5build2) ...\n",
            "Setting up libatk-wrapper-java (0.38.0-5build1) ...\n",
            "Setting up libgail-common:amd64 (2.24.33-2ubuntu2) ...\n",
            "Setting up libatk-wrapper-java-jni:amd64 (0.38.0-5build1) ...\n",
            "Setting up openjdk-8-jre:amd64 (8u402-ga-2ubuntu1~22.04) ...\n",
            "update-alternatives: using /usr/lib/jvm/java-8-openjdk-amd64/jre/bin/policytool to provide /usr/bin/policytool (policytool) in auto mode\n",
            "Setting up openjdk-8-jdk:amd64 (8u402-ga-2ubuntu1~22.04) ...\n",
            "update-alternatives: using /usr/lib/jvm/java-8-openjdk-amd64/bin/appletviewer to provide /usr/bin/appletviewer (appletviewer) in auto mode\n",
            "update-alternatives: using /usr/lib/jvm/java-8-openjdk-amd64/bin/jconsole to provide /usr/bin/jconsole (jconsole) in auto mode\n",
            "Processing triggers for hicolor-icon-theme (0.17-2) ...\n",
            "Processing triggers for libc-bin (2.35-0ubuntu3.4) ...\n",
            "/sbin/ldconfig.real: /usr/local/lib/libtbb.so.12 is not a symbolic link\n",
            "\n",
            "/sbin/ldconfig.real: /usr/local/lib/libtbbmalloc_proxy.so.2 is not a symbolic link\n",
            "\n",
            "/sbin/ldconfig.real: /usr/local/lib/libtbbmalloc.so.2 is not a symbolic link\n",
            "\n",
            "/sbin/ldconfig.real: /usr/local/lib/libtbbbind_2_5.so.3 is not a symbolic link\n",
            "\n",
            "/sbin/ldconfig.real: /usr/local/lib/libtbbbind_2_0.so.3 is not a symbolic link\n",
            "\n",
            "/sbin/ldconfig.real: /usr/local/lib/libtbbbind.so.3 is not a symbolic link\n",
            "\n",
            "Processing triggers for man-db (2.10.2-1) ...\n",
            "Processing triggers for libgdk-pixbuf-2.0-0:amd64 (2.42.8+dfsg-1ubuntu0.2) ...\n",
            "Processing triggers for fontconfig (2.13.1-4.2ubuntu5) ...\n"
          ]
        }
      ]
    },
    {
      "cell_type": "code",
      "source": [
        "import os\n",
        "#Set the JAVA_HOME env variable\n",
        "os.environ[\"JAVA_HOME\"]=\"/usr/lib/jvm/java-8-openjdk-amd64\""
      ],
      "metadata": {
        "id": "zQsB-bqmf0Kf"
      },
      "execution_count": 2,
      "outputs": []
    },
    {
      "cell_type": "code",
      "source": [
        "#Current working directory\n",
        "!pwd"
      ],
      "metadata": {
        "colab": {
          "base_uri": "https://localhost:8080/"
        },
        "id": "st8iZ0Q8f_Jf",
        "outputId": "3455bd76-eb19-49ea-9a34-b108ca865ff9"
      },
      "execution_count": 3,
      "outputs": [
        {
          "output_type": "stream",
          "name": "stdout",
          "text": [
            "/content\n"
          ]
        }
      ]
    },
    {
      "cell_type": "code",
      "source": [
        "!echo $JAVA_HOME"
      ],
      "metadata": {
        "colab": {
          "base_uri": "https://localhost:8080/"
        },
        "id": "uRw8QmNZgADr",
        "outputId": "b3662878-cad0-49f4-b838-c4be3a3b0be7"
      },
      "execution_count": 4,
      "outputs": [
        {
          "output_type": "stream",
          "name": "stdout",
          "text": [
            "/usr/lib/jvm/java-8-openjdk-amd64\n"
          ]
        }
      ]
    },
    {
      "cell_type": "code",
      "source": [
        "#Install PySpark with latest version\n",
        "!pip install pyspark"
      ],
      "metadata": {
        "colab": {
          "base_uri": "https://localhost:8080/"
        },
        "id": "f9Bm569zgWmp",
        "outputId": "db347034-8195-4553-d74b-401c031a131e"
      },
      "execution_count": 5,
      "outputs": [
        {
          "output_type": "stream",
          "name": "stdout",
          "text": [
            "Collecting pyspark\n",
            "  Downloading pyspark-3.5.1.tar.gz (317.0 MB)\n",
            "\u001b[2K     \u001b[90m━━━━━━━━━━━━━━━━━━━━━━━━━━━━━━━━━━━━━━━━\u001b[0m \u001b[32m317.0/317.0 MB\u001b[0m \u001b[31m3.0 MB/s\u001b[0m eta \u001b[36m0:00:00\u001b[0m\n",
            "\u001b[?25h  Preparing metadata (setup.py) ... \u001b[?25l\u001b[?25hdone\n",
            "Requirement already satisfied: py4j==0.10.9.7 in /usr/local/lib/python3.10/dist-packages (from pyspark) (0.10.9.7)\n",
            "Building wheels for collected packages: pyspark\n",
            "  Building wheel for pyspark (setup.py) ... \u001b[?25l\u001b[?25hdone\n",
            "  Created wheel for pyspark: filename=pyspark-3.5.1-py2.py3-none-any.whl size=317488491 sha256=5f4a783e8495ff10919138244c6ad038251dfb793e4683021091d43ced03c239\n",
            "  Stored in directory: /root/.cache/pip/wheels/80/1d/60/2c256ed38dddce2fdd93be545214a63e02fbd8d74fb0b7f3a6\n",
            "Successfully built pyspark\n",
            "Installing collected packages: pyspark\n",
            "Successfully installed pyspark-3.5.1\n"
          ]
        }
      ]
    },
    {
      "cell_type": "code",
      "source": [
        "#mount your drive\n",
        "from google.colab import drive\n",
        "drive.mount('/content/drive')"
      ],
      "metadata": {
        "colab": {
          "base_uri": "https://localhost:8080/"
        },
        "id": "umVERNM-gp4b",
        "outputId": "dbd9e2cb-b40b-4055-8911-ca11a246140d"
      },
      "execution_count": 6,
      "outputs": [
        {
          "output_type": "stream",
          "name": "stdout",
          "text": [
            "Mounted at /content/drive\n"
          ]
        }
      ]
    },
    {
      "cell_type": "code",
      "execution_count": 7,
      "metadata": {
        "application/vnd.databricks.v1+cell": {
          "cellMetadata": {
            "byteLimit": 2048000,
            "rowLimit": 10000
          },
          "inputWidgets": {},
          "nuid": "73016072-e50d-42a0-9771-3c5603cbc2da",
          "showTitle": false,
          "title": ""
        },
        "id": "mYCP8yMHetsg"
      },
      "outputs": [],
      "source": [
        "from pyspark.sql import SparkSession\n",
        "spark = SparkSession.builder.appName(\"Spark DataFrames\").getOrCreate()\n"
      ]
    },
    {
      "cell_type": "code",
      "source": [
        "from google.colab import drive\n",
        "drive.mount('/content/drive')"
      ],
      "metadata": {
        "colab": {
          "base_uri": "https://localhost:8080/"
        },
        "id": "C703CIGNY4Oa",
        "outputId": "c3bd8b57-78f0-4847-dc3a-2ab7849435d0"
      },
      "execution_count": 8,
      "outputs": [
        {
          "output_type": "stream",
          "name": "stdout",
          "text": [
            "Drive already mounted at /content/drive; to attempt to forcibly remount, call drive.mount(\"/content/drive\", force_remount=True).\n"
          ]
        }
      ]
    },
    {
      "cell_type": "code",
      "execution_count": 9,
      "metadata": {
        "application/vnd.databricks.v1+cell": {
          "cellMetadata": {
            "byteLimit": 2048000,
            "rowLimit": 10000
          },
          "inputWidgets": {},
          "nuid": "121ad418-4dfd-4374-b2c2-075a131015f8",
          "showTitle": false,
          "title": ""
        },
        "colab": {
          "base_uri": "https://localhost:8080/"
        },
        "id": "Y7bsyhRhetsi",
        "outputId": "8e070d43-b846-4680-e967-6d2aeb0af7d4"
      },
      "outputs": [
        {
          "output_type": "stream",
          "name": "stdout",
          "text": [
            "+---+------+----------------+------+------+-----+--------------------+\n",
            "|_c0|   _c1|             _c2|   _c3|   _c4|  _c5|                 _c6|\n",
            "+---+------+----------------+------+------+-----+--------------------+\n",
            "|age|gender|            name|course|  roll|marks|               email|\n",
            "| 28|Female| Hubert Oliveras|    DB| 02984|   59|Annika Hoffman_Na...|\n",
            "| 29|Female|Toshiko Hillyard| Cloud| 12899|   62|Margene Moores_Ma...|\n",
            "| 28|  Male|  Celeste Lollis|    PF| 21267|   45|Jeannetta Golden_...|\n",
            "| 29|Female|    Elenore Choy|    DB| 32877|   29|Billi Clore_Mitzi...|\n",
            "| 28|  Male|  Sheryll Towler|   DSA| 41487|   41|Claude Panos_Judi...|\n",
            "| 28|  Male|  Margene Moores|   MVC| 52771|   32|Toshiko Hillyard_...|\n",
            "| 28|  Male|     Neda Briski|   OOP| 61973|   69|Alberta Freund_El...|\n",
            "| 28|Female|    Claude Panos| Cloud| 72409|   85|Sheryll Towler_Al...|\n",
            "| 28|  Male|  Celeste Lollis|   MVC| 81492|   64|Nicole Harwood_Cl...|\n",
            "| 29|  Male|  Cordie Harnois|   OOP| 92882|   51|Judie Chipps_Clem...|\n",
            "| 29|Female|       Kena Wild|   DSA|102285|   35|Dustin Feagins_Ma...|\n",
            "| 29|  Male| Ernest Rossbach|    DB|111449|   53|Maybell Duguay_Ab...|\n",
            "| 28|Female|  Latia Vanhoose|    DB|122502|   27|Latia Vanhoose_Mi...|\n",
            "| 29|Female|  Latia Vanhoose|   MVC|132110|   55|Eda Neathery_Nico...|\n",
            "| 29|  Male|     Neda Briski|    PF|141770|   42|Margene Moores_Mi...|\n",
            "| 29|Female|  Latia Vanhoose|    DB|152159|   27|Claude Panos_Sant...|\n",
            "| 29|  Male|  Loris Crossett|   MVC|161771|   36|Mitzi Seldon_Jenn...|\n",
            "| 29|  Male|  Annika Hoffman|   OOP|171660|   22|Taryn Brownlee_Mi...|\n",
            "| 29|  Male|   Santa Kerfien|    PF|182129|   56|Judie Chipps_Tary...|\n",
            "+---+------+----------------+------+------+-----+--------------------+\n",
            "only showing top 20 rows\n",
            "\n"
          ]
        }
      ],
      "source": [
        "df = spark.read.csv('/content/drive/MyDrive/student_info.csv')\n",
        "df.show()"
      ]
    },
    {
      "cell_type": "code",
      "execution_count": 10,
      "metadata": {
        "application/vnd.databricks.v1+cell": {
          "cellMetadata": {
            "byteLimit": 2048000,
            "rowLimit": 10000
          },
          "inputWidgets": {},
          "nuid": "eecf22c4-2716-4d05-8483-5bcc267530a0",
          "showTitle": false,
          "title": ""
        },
        "id": "BtscbU0Eetsj",
        "colab": {
          "base_uri": "https://localhost:8080/",
          "height": 187
        },
        "outputId": "bdd3216d-1180-40e6-9cdb-ba8ae48e344b"
      },
      "outputs": [
        {
          "output_type": "execute_result",
          "data": {
            "text/plain": [
              "pyspark.sql.dataframe.DataFrame"
            ],
            "text/html": [
              "<div style=\"max-width:800px; border: 1px solid var(--colab-border-color);\"><style>\n",
              "      pre.function-repr-contents {\n",
              "        overflow-x: auto;\n",
              "        padding: 8px 12px;\n",
              "        max-height: 500px;\n",
              "      }\n",
              "\n",
              "      pre.function-repr-contents.function-repr-contents-collapsed {\n",
              "        cursor: pointer;\n",
              "        max-height: 100px;\n",
              "      }\n",
              "    </style>\n",
              "    <pre style=\"white-space: initial; background:\n",
              "         var(--colab-secondary-surface-color); padding: 8px 12px;\n",
              "         border-bottom: 1px solid var(--colab-border-color);\"><b>pyspark.sql.dataframe.DataFrame</b><br/>def __init__(jdf: JavaObject, sql_ctx: Union[&#x27;SQLContext&#x27;, &#x27;SparkSession&#x27;])</pre><pre class=\"function-repr-contents function-repr-contents-collapsed\" style=\"\"><a class=\"filepath\" style=\"display:none\" href=\"#\">/usr/local/lib/python3.10/dist-packages/pyspark/sql/dataframe.py</a>A distributed collection of data grouped into named columns.\n",
              "\n",
              ".. versionadded:: 1.3.0\n",
              "\n",
              ".. versionchanged:: 3.4.0\n",
              "    Supports Spark Connect.\n",
              "\n",
              "Examples\n",
              "--------\n",
              "A :class:`DataFrame` is equivalent to a relational table in Spark SQL,\n",
              "and can be created using various functions in :class:`SparkSession`:\n",
              "\n",
              "&gt;&gt;&gt; people = spark.createDataFrame([\n",
              "...     {&quot;deptId&quot;: 1, &quot;age&quot;: 40, &quot;name&quot;: &quot;Hyukjin Kwon&quot;, &quot;gender&quot;: &quot;M&quot;, &quot;salary&quot;: 50},\n",
              "...     {&quot;deptId&quot;: 1, &quot;age&quot;: 50, &quot;name&quot;: &quot;Takuya Ueshin&quot;, &quot;gender&quot;: &quot;M&quot;, &quot;salary&quot;: 100},\n",
              "...     {&quot;deptId&quot;: 2, &quot;age&quot;: 60, &quot;name&quot;: &quot;Xinrong Meng&quot;, &quot;gender&quot;: &quot;F&quot;, &quot;salary&quot;: 150},\n",
              "...     {&quot;deptId&quot;: 3, &quot;age&quot;: 20, &quot;name&quot;: &quot;Haejoon Lee&quot;, &quot;gender&quot;: &quot;M&quot;, &quot;salary&quot;: 200}\n",
              "... ])\n",
              "\n",
              "Once created, it can be manipulated using the various domain-specific-language\n",
              "(DSL) functions defined in: :class:`DataFrame`, :class:`Column`.\n",
              "\n",
              "To select a column from the :class:`DataFrame`, use the apply method:\n",
              "\n",
              "&gt;&gt;&gt; age_col = people.age\n",
              "\n",
              "A more concrete example:\n",
              "\n",
              "&gt;&gt;&gt; # To create DataFrame using SparkSession\n",
              "... department = spark.createDataFrame([\n",
              "...     {&quot;id&quot;: 1, &quot;name&quot;: &quot;PySpark&quot;},\n",
              "...     {&quot;id&quot;: 2, &quot;name&quot;: &quot;ML&quot;},\n",
              "...     {&quot;id&quot;: 3, &quot;name&quot;: &quot;Spark SQL&quot;}\n",
              "... ])\n",
              "\n",
              "&gt;&gt;&gt; people.filter(people.age &gt; 30).join(\n",
              "...     department, people.deptId == department.id).groupBy(\n",
              "...     department.name, &quot;gender&quot;).agg({&quot;salary&quot;: &quot;avg&quot;, &quot;age&quot;: &quot;max&quot;}).show()\n",
              "+-------+------+-----------+--------+\n",
              "|   name|gender|avg(salary)|max(age)|\n",
              "+-------+------+-----------+--------+\n",
              "|     ML|     F|      150.0|      60|\n",
              "|PySpark|     M|       75.0|      50|\n",
              "+-------+------+-----------+--------+\n",
              "\n",
              "Notes\n",
              "-----\n",
              "A DataFrame should only be created as described above. It should not be directly\n",
              "created via using the constructor.</pre>\n",
              "      <script>\n",
              "      if (google.colab.kernel.accessAllowed && google.colab.files && google.colab.files.view) {\n",
              "        for (const element of document.querySelectorAll('.filepath')) {\n",
              "          element.style.display = 'block'\n",
              "          element.onclick = (event) => {\n",
              "            event.preventDefault();\n",
              "            event.stopPropagation();\n",
              "            google.colab.files.view(element.textContent, 80);\n",
              "          };\n",
              "        }\n",
              "      }\n",
              "      for (const element of document.querySelectorAll('.function-repr-contents')) {\n",
              "        element.onclick = (event) => {\n",
              "          event.preventDefault();\n",
              "          event.stopPropagation();\n",
              "          element.classList.toggle('function-repr-contents-collapsed');\n",
              "        };\n",
              "      }\n",
              "      </script>\n",
              "      </div>"
            ]
          },
          "metadata": {},
          "execution_count": 10
        }
      ],
      "source": [
        "type(df)"
      ]
    },
    {
      "cell_type": "code",
      "execution_count": 11,
      "metadata": {
        "application/vnd.databricks.v1+cell": {
          "cellMetadata": {
            "byteLimit": 2048000,
            "rowLimit": 10000
          },
          "inputWidgets": {},
          "nuid": "26220526-bc83-42cd-a99a-70c6f6b3f00d",
          "showTitle": false,
          "title": ""
        },
        "id": "6WrhdlY5etsj",
        "colab": {
          "base_uri": "https://localhost:8080/"
        },
        "outputId": "b748aa57-7f74-410a-89a5-54fcf08f8e1c"
      },
      "outputs": [
        {
          "output_type": "stream",
          "name": "stdout",
          "text": [
            "+---+------+----------------+------+------+-----+--------------------+\n",
            "|age|gender|            name|course|  roll|marks|               email|\n",
            "+---+------+----------------+------+------+-----+--------------------+\n",
            "| 28|Female| Hubert Oliveras|    DB| 02984|   59|Annika Hoffman_Na...|\n",
            "| 29|Female|Toshiko Hillyard| Cloud| 12899|   62|Margene Moores_Ma...|\n",
            "| 28|  Male|  Celeste Lollis|    PF| 21267|   45|Jeannetta Golden_...|\n",
            "| 29|Female|    Elenore Choy|    DB| 32877|   29|Billi Clore_Mitzi...|\n",
            "| 28|  Male|  Sheryll Towler|   DSA| 41487|   41|Claude Panos_Judi...|\n",
            "| 28|  Male|  Margene Moores|   MVC| 52771|   32|Toshiko Hillyard_...|\n",
            "| 28|  Male|     Neda Briski|   OOP| 61973|   69|Alberta Freund_El...|\n",
            "| 28|Female|    Claude Panos| Cloud| 72409|   85|Sheryll Towler_Al...|\n",
            "| 28|  Male|  Celeste Lollis|   MVC| 81492|   64|Nicole Harwood_Cl...|\n",
            "| 29|  Male|  Cordie Harnois|   OOP| 92882|   51|Judie Chipps_Clem...|\n",
            "| 29|Female|       Kena Wild|   DSA|102285|   35|Dustin Feagins_Ma...|\n",
            "| 29|  Male| Ernest Rossbach|    DB|111449|   53|Maybell Duguay_Ab...|\n",
            "| 28|Female|  Latia Vanhoose|    DB|122502|   27|Latia Vanhoose_Mi...|\n",
            "| 29|Female|  Latia Vanhoose|   MVC|132110|   55|Eda Neathery_Nico...|\n",
            "| 29|  Male|     Neda Briski|    PF|141770|   42|Margene Moores_Mi...|\n",
            "| 29|Female|  Latia Vanhoose|    DB|152159|   27|Claude Panos_Sant...|\n",
            "| 29|  Male|  Loris Crossett|   MVC|161771|   36|Mitzi Seldon_Jenn...|\n",
            "| 29|  Male|  Annika Hoffman|   OOP|171660|   22|Taryn Brownlee_Mi...|\n",
            "| 29|  Male|   Santa Kerfien|    PF|182129|   56|Judie Chipps_Tary...|\n",
            "| 28|Female|Mickey Cortright|    DB|192537|   62|Ernest Rossbach_M...|\n",
            "+---+------+----------------+------+------+-----+--------------------+\n",
            "only showing top 20 rows\n",
            "\n"
          ]
        }
      ],
      "source": [
        "df=spark.read.option('header',True).csv('/content/drive/MyDrive/student_info.csv')\n",
        "df.show()"
      ]
    },
    {
      "cell_type": "code",
      "execution_count": 12,
      "metadata": {
        "application/vnd.databricks.v1+cell": {
          "cellMetadata": {
            "byteLimit": 2048000,
            "rowLimit": 10000
          },
          "inputWidgets": {},
          "nuid": "b20d87ec-baa6-432a-9b01-9c5f03031958",
          "showTitle": false,
          "title": ""
        },
        "id": "0-h0Qg5Retsj",
        "colab": {
          "base_uri": "https://localhost:8080/"
        },
        "outputId": "17246d2d-957f-4c9e-aac7-dfd54acd81fa"
      },
      "outputs": [
        {
          "output_type": "stream",
          "name": "stdout",
          "text": [
            "root\n",
            " |-- age: string (nullable = true)\n",
            " |-- gender: string (nullable = true)\n",
            " |-- name: string (nullable = true)\n",
            " |-- course: string (nullable = true)\n",
            " |-- roll: string (nullable = true)\n",
            " |-- marks: string (nullable = true)\n",
            " |-- email: string (nullable = true)\n",
            "\n"
          ]
        }
      ],
      "source": [
        "#displays structure of dataframe\n",
        "df.printSchema()"
      ]
    },
    {
      "cell_type": "code",
      "execution_count": 13,
      "metadata": {
        "application/vnd.databricks.v1+cell": {
          "cellMetadata": {
            "byteLimit": 2048000,
            "rowLimit": 10000
          },
          "inputWidgets": {},
          "nuid": "0c5de8af-76c1-4c2b-841e-83e5d2d3eb9e",
          "showTitle": false,
          "title": ""
        },
        "id": "r3ayNaYhetsk",
        "colab": {
          "base_uri": "https://localhost:8080/"
        },
        "outputId": "d94d66a1-818c-4266-e6cd-f0c21cb23e02"
      },
      "outputs": [
        {
          "output_type": "stream",
          "name": "stdout",
          "text": [
            "+---+------+----------------+------+------+-----+--------------------+\n",
            "|age|gender|            name|course|  roll|marks|               email|\n",
            "+---+------+----------------+------+------+-----+--------------------+\n",
            "| 28|Female| Hubert Oliveras|    DB|  2984|   59|Annika Hoffman_Na...|\n",
            "| 29|Female|Toshiko Hillyard| Cloud| 12899|   62|Margene Moores_Ma...|\n",
            "| 28|  Male|  Celeste Lollis|    PF| 21267|   45|Jeannetta Golden_...|\n",
            "| 29|Female|    Elenore Choy|    DB| 32877|   29|Billi Clore_Mitzi...|\n",
            "| 28|  Male|  Sheryll Towler|   DSA| 41487|   41|Claude Panos_Judi...|\n",
            "| 28|  Male|  Margene Moores|   MVC| 52771|   32|Toshiko Hillyard_...|\n",
            "| 28|  Male|     Neda Briski|   OOP| 61973|   69|Alberta Freund_El...|\n",
            "| 28|Female|    Claude Panos| Cloud| 72409|   85|Sheryll Towler_Al...|\n",
            "| 28|  Male|  Celeste Lollis|   MVC| 81492|   64|Nicole Harwood_Cl...|\n",
            "| 29|  Male|  Cordie Harnois|   OOP| 92882|   51|Judie Chipps_Clem...|\n",
            "| 29|Female|       Kena Wild|   DSA|102285|   35|Dustin Feagins_Ma...|\n",
            "| 29|  Male| Ernest Rossbach|    DB|111449|   53|Maybell Duguay_Ab...|\n",
            "| 28|Female|  Latia Vanhoose|    DB|122502|   27|Latia Vanhoose_Mi...|\n",
            "| 29|Female|  Latia Vanhoose|   MVC|132110|   55|Eda Neathery_Nico...|\n",
            "| 29|  Male|     Neda Briski|    PF|141770|   42|Margene Moores_Mi...|\n",
            "| 29|Female|  Latia Vanhoose|    DB|152159|   27|Claude Panos_Sant...|\n",
            "| 29|  Male|  Loris Crossett|   MVC|161771|   36|Mitzi Seldon_Jenn...|\n",
            "| 29|  Male|  Annika Hoffman|   OOP|171660|   22|Taryn Brownlee_Mi...|\n",
            "| 29|  Male|   Santa Kerfien|    PF|182129|   56|Judie Chipps_Tary...|\n",
            "| 28|Female|Mickey Cortright|    DB|192537|   62|Ernest Rossbach_M...|\n",
            "+---+------+----------------+------+------+-----+--------------------+\n",
            "only showing top 20 rows\n",
            "\n"
          ]
        }
      ],
      "source": [
        "df=spark.read.option('header',True).option('inferSchema',True).csv('/content/drive/MyDrive/student_info.csv')\n",
        "df.show()"
      ]
    },
    {
      "cell_type": "code",
      "execution_count": 14,
      "metadata": {
        "application/vnd.databricks.v1+cell": {
          "cellMetadata": {
            "byteLimit": 2048000,
            "rowLimit": 10000
          },
          "inputWidgets": {},
          "nuid": "c0118e19-c60f-4bd7-97a0-770a2140d904",
          "showTitle": false,
          "title": ""
        },
        "id": "hj-zl_Mretsk",
        "colab": {
          "base_uri": "https://localhost:8080/"
        },
        "outputId": "c442c35c-d049-4049-9f5c-c69b9cee1c10"
      },
      "outputs": [
        {
          "output_type": "stream",
          "name": "stdout",
          "text": [
            "root\n",
            " |-- age: integer (nullable = true)\n",
            " |-- gender: string (nullable = true)\n",
            " |-- name: string (nullable = true)\n",
            " |-- course: string (nullable = true)\n",
            " |-- roll: integer (nullable = true)\n",
            " |-- marks: integer (nullable = true)\n",
            " |-- email: string (nullable = true)\n",
            "\n"
          ]
        }
      ],
      "source": [
        "#displays structure of dataframe\n",
        "df.printSchema()"
      ]
    },
    {
      "cell_type": "code",
      "execution_count": 15,
      "metadata": {
        "application/vnd.databricks.v1+cell": {
          "cellMetadata": {
            "byteLimit": 2048000,
            "rowLimit": 10000
          },
          "inputWidgets": {},
          "nuid": "fdb862f1-e4fe-414e-a9c8-7e02a7de0ffe",
          "showTitle": false,
          "title": ""
        },
        "id": "EykBkl0Detsk",
        "colab": {
          "base_uri": "https://localhost:8080/"
        },
        "outputId": "e40aea4f-d613-4f3f-ec24-6f70a19f7123"
      },
      "outputs": [
        {
          "output_type": "stream",
          "name": "stdout",
          "text": [
            "root\n",
            " |-- age: integer (nullable = true)\n",
            " |-- gender: string (nullable = true)\n",
            " |-- name: string (nullable = true)\n",
            " |-- course: string (nullable = true)\n",
            " |-- roll: integer (nullable = true)\n",
            " |-- marks: integer (nullable = true)\n",
            " |-- email: string (nullable = true)\n",
            "\n"
          ]
        }
      ],
      "source": [
        "df=spark.read.options(header=True,inferSchema=True).csv('/content/drive/MyDrive/student_info.csv')\n",
        "df.printSchema()"
      ]
    },
    {
      "cell_type": "code",
      "execution_count": 16,
      "metadata": {
        "application/vnd.databricks.v1+cell": {
          "cellMetadata": {
            "byteLimit": 2048000,
            "rowLimit": 10000
          },
          "inputWidgets": {},
          "nuid": "173bcf16-92f1-486b-9bca-5009d843b439",
          "showTitle": false,
          "title": ""
        },
        "id": "GZiFrvBUetsk"
      },
      "outputs": [],
      "source": [
        "from pyspark.sql.types import StructType, StructField, StringType, IntegerType\n",
        "\n",
        "my_schema = StructType([\n",
        "                    StructField(\"age\", IntegerType(), True),\n",
        "                    StructField(\"gender\", StringType(), True),\n",
        "                    StructField(\"name\", StringType(), True),\n",
        "                    StructField(\"course\", StringType(), True),\n",
        "                    StructField(\"roll\", StringType(), True),\n",
        "                    StructField(\"marks\", IntegerType(), True),\n",
        "                    StructField(\"email\", StringType(), True)\n",
        "])"
      ]
    },
    {
      "cell_type": "code",
      "execution_count": 17,
      "metadata": {
        "application/vnd.databricks.v1+cell": {
          "cellMetadata": {
            "byteLimit": 2048000,
            "rowLimit": 10000
          },
          "inputWidgets": {},
          "nuid": "c4903451-6f30-4a88-b6f3-9bb2ae0dc578",
          "showTitle": false,
          "title": ""
        },
        "id": "PJBONkYCetsl",
        "colab": {
          "base_uri": "https://localhost:8080/"
        },
        "outputId": "c94d368c-c297-45d8-b287-c359e0e4effc"
      },
      "outputs": [
        {
          "output_type": "stream",
          "name": "stdout",
          "text": [
            "root\n",
            " |-- age: integer (nullable = true)\n",
            " |-- gender: string (nullable = true)\n",
            " |-- name: string (nullable = true)\n",
            " |-- course: string (nullable = true)\n",
            " |-- roll: string (nullable = true)\n",
            " |-- marks: integer (nullable = true)\n",
            " |-- email: string (nullable = true)\n",
            "\n"
          ]
        }
      ],
      "source": [
        "df=spark.read.options(header=True).schema(my_schema).csv('/content/drive/MyDrive/student_info.csv')\n",
        "df.printSchema()"
      ]
    },
    {
      "cell_type": "code",
      "execution_count": 18,
      "metadata": {
        "application/vnd.databricks.v1+cell": {
          "cellMetadata": {
            "byteLimit": 2048000,
            "rowLimit": 10000
          },
          "inputWidgets": {},
          "nuid": "b77bde9c-06ad-408f-acaa-1141811539f7",
          "showTitle": false,
          "title": ""
        },
        "id": "5oiCqsTUetsl"
      },
      "outputs": [],
      "source": [
        "from pyspark.sql.functions import col, lit"
      ]
    },
    {
      "cell_type": "code",
      "execution_count": 19,
      "metadata": {
        "application/vnd.databricks.v1+cell": {
          "cellMetadata": {
            "byteLimit": 2048000,
            "rowLimit": 10000
          },
          "inputWidgets": {},
          "nuid": "9334ef18-d30d-466a-9e59-b2d2789c42a5",
          "showTitle": false,
          "title": ""
        },
        "id": "7poGWzCketsl"
      },
      "outputs": [],
      "source": [
        "#data type casting\n",
        "df = df.withColumn(\"roll\", col(\"roll\").cast(\"String\"))"
      ]
    },
    {
      "cell_type": "code",
      "execution_count": 20,
      "metadata": {
        "application/vnd.databricks.v1+cell": {
          "cellMetadata": {
            "byteLimit": 2048000,
            "rowLimit": 10000
          },
          "inputWidgets": {},
          "nuid": "e5104e2e-12f0-444e-b42c-ce047f5f3d07",
          "showTitle": false,
          "title": ""
        },
        "id": "O9-WxrkYetsm",
        "colab": {
          "base_uri": "https://localhost:8080/"
        },
        "outputId": "739a5765-64c0-45b7-db55-a4c4ccfc1adb"
      },
      "outputs": [
        {
          "output_type": "stream",
          "name": "stdout",
          "text": [
            "root\n",
            " |-- age: integer (nullable = true)\n",
            " |-- gender: string (nullable = true)\n",
            " |-- name: string (nullable = true)\n",
            " |-- course: string (nullable = true)\n",
            " |-- roll: string (nullable = true)\n",
            " |-- marks: integer (nullable = true)\n",
            " |-- email: string (nullable = true)\n",
            "\n"
          ]
        }
      ],
      "source": [
        "df.printSchema()"
      ]
    },
    {
      "cell_type": "code",
      "execution_count": 21,
      "metadata": {
        "application/vnd.databricks.v1+cell": {
          "cellMetadata": {
            "byteLimit": 2048000,
            "rowLimit": 10000
          },
          "inputWidgets": {},
          "nuid": "0fe05f7c-efdc-4874-b0cf-924cad2d6d6b",
          "showTitle": false,
          "title": ""
        },
        "id": "bKcqopnfetsm",
        "colab": {
          "base_uri": "https://localhost:8080/"
        },
        "outputId": "7035355d-802c-4cc1-80c5-04e56a0d54aa"
      },
      "outputs": [
        {
          "output_type": "stream",
          "name": "stdout",
          "text": [
            "+---+------+----------------+------+------+-----+--------------------+\n",
            "|age|gender|            name|course|  roll|marks|               email|\n",
            "+---+------+----------------+------+------+-----+--------------------+\n",
            "| 28|Female| Hubert Oliveras|    DB| 02984|   69|Annika Hoffman_Na...|\n",
            "| 29|Female|Toshiko Hillyard| Cloud| 12899|   72|Margene Moores_Ma...|\n",
            "| 28|  Male|  Celeste Lollis|    PF| 21267|   55|Jeannetta Golden_...|\n",
            "| 29|Female|    Elenore Choy|    DB| 32877|   39|Billi Clore_Mitzi...|\n",
            "| 28|  Male|  Sheryll Towler|   DSA| 41487|   51|Claude Panos_Judi...|\n",
            "| 28|  Male|  Margene Moores|   MVC| 52771|   42|Toshiko Hillyard_...|\n",
            "| 28|  Male|     Neda Briski|   OOP| 61973|   79|Alberta Freund_El...|\n",
            "| 28|Female|    Claude Panos| Cloud| 72409|   95|Sheryll Towler_Al...|\n",
            "| 28|  Male|  Celeste Lollis|   MVC| 81492|   74|Nicole Harwood_Cl...|\n",
            "| 29|  Male|  Cordie Harnois|   OOP| 92882|   61|Judie Chipps_Clem...|\n",
            "| 29|Female|       Kena Wild|   DSA|102285|   45|Dustin Feagins_Ma...|\n",
            "| 29|  Male| Ernest Rossbach|    DB|111449|   63|Maybell Duguay_Ab...|\n",
            "| 28|Female|  Latia Vanhoose|    DB|122502|   37|Latia Vanhoose_Mi...|\n",
            "| 29|Female|  Latia Vanhoose|   MVC|132110|   65|Eda Neathery_Nico...|\n",
            "| 29|  Male|     Neda Briski|    PF|141770|   52|Margene Moores_Mi...|\n",
            "| 29|Female|  Latia Vanhoose|    DB|152159|   37|Claude Panos_Sant...|\n",
            "| 29|  Male|  Loris Crossett|   MVC|161771|   46|Mitzi Seldon_Jenn...|\n",
            "| 29|  Male|  Annika Hoffman|   OOP|171660|   32|Taryn Brownlee_Mi...|\n",
            "| 29|  Male|   Santa Kerfien|    PF|182129|   66|Judie Chipps_Tary...|\n",
            "| 28|Female|Mickey Cortright|    DB|192537|   72|Ernest Rossbach_M...|\n",
            "+---+------+----------------+------+------+-----+--------------------+\n",
            "only showing top 20 rows\n",
            "\n"
          ]
        }
      ],
      "source": [
        "#update column value\n",
        "df = df.withColumn(\"marks\", col('marks') + 10)\n",
        "df.show()"
      ]
    },
    {
      "cell_type": "code",
      "execution_count": 22,
      "metadata": {
        "application/vnd.databricks.v1+cell": {
          "cellMetadata": {
            "byteLimit": 2048000,
            "rowLimit": 10000
          },
          "inputWidgets": {},
          "nuid": "b1c70610-3657-40a3-a72f-c4afcf0c4973",
          "showTitle": false,
          "title": ""
        },
        "id": "PFwTtzCietsm",
        "colab": {
          "base_uri": "https://localhost:8080/"
        },
        "outputId": "11453084-3ccc-4f99-9c30-e0bf6d93f97d"
      },
      "outputs": [
        {
          "output_type": "stream",
          "name": "stdout",
          "text": [
            "+---+------+----------------+------+------+-----+--------------------+----------+\n",
            "|age|gender|            name|course|  roll|marks|               email|percentage|\n",
            "+---+------+----------------+------+------+-----+--------------------+----------+\n",
            "| 28|Female| Hubert Oliveras|    DB| 02984|   69|Annika Hoffman_Na...|      0.69|\n",
            "| 29|Female|Toshiko Hillyard| Cloud| 12899|   72|Margene Moores_Ma...|      0.72|\n",
            "| 28|  Male|  Celeste Lollis|    PF| 21267|   55|Jeannetta Golden_...|      0.55|\n",
            "| 29|Female|    Elenore Choy|    DB| 32877|   39|Billi Clore_Mitzi...|      0.39|\n",
            "| 28|  Male|  Sheryll Towler|   DSA| 41487|   51|Claude Panos_Judi...|      0.51|\n",
            "| 28|  Male|  Margene Moores|   MVC| 52771|   42|Toshiko Hillyard_...|      0.42|\n",
            "| 28|  Male|     Neda Briski|   OOP| 61973|   79|Alberta Freund_El...|      0.79|\n",
            "| 28|Female|    Claude Panos| Cloud| 72409|   95|Sheryll Towler_Al...|      0.95|\n",
            "| 28|  Male|  Celeste Lollis|   MVC| 81492|   74|Nicole Harwood_Cl...|      0.74|\n",
            "| 29|  Male|  Cordie Harnois|   OOP| 92882|   61|Judie Chipps_Clem...|      0.61|\n",
            "| 29|Female|       Kena Wild|   DSA|102285|   45|Dustin Feagins_Ma...|      0.45|\n",
            "| 29|  Male| Ernest Rossbach|    DB|111449|   63|Maybell Duguay_Ab...|      0.63|\n",
            "| 28|Female|  Latia Vanhoose|    DB|122502|   37|Latia Vanhoose_Mi...|      0.37|\n",
            "| 29|Female|  Latia Vanhoose|   MVC|132110|   65|Eda Neathery_Nico...|      0.65|\n",
            "| 29|  Male|     Neda Briski|    PF|141770|   52|Margene Moores_Mi...|      0.52|\n",
            "| 29|Female|  Latia Vanhoose|    DB|152159|   37|Claude Panos_Sant...|      0.37|\n",
            "| 29|  Male|  Loris Crossett|   MVC|161771|   46|Mitzi Seldon_Jenn...|      0.46|\n",
            "| 29|  Male|  Annika Hoffman|   OOP|171660|   32|Taryn Brownlee_Mi...|      0.32|\n",
            "| 29|  Male|   Santa Kerfien|    PF|182129|   66|Judie Chipps_Tary...|      0.66|\n",
            "| 28|Female|Mickey Cortright|    DB|192537|   72|Ernest Rossbach_M...|      0.72|\n",
            "+---+------+----------------+------+------+-----+--------------------+----------+\n",
            "only showing top 20 rows\n",
            "\n"
          ]
        }
      ],
      "source": [
        "#create a column percentage by dividing column marks by 100\n",
        "df = df.withColumn(\"percentage\", col('marks') / 100)\n",
        "df.show()"
      ]
    },
    {
      "cell_type": "code",
      "execution_count": 23,
      "metadata": {
        "application/vnd.databricks.v1+cell": {
          "cellMetadata": {
            "byteLimit": 2048000,
            "rowLimit": 10000
          },
          "inputWidgets": {},
          "nuid": "2efab034-c5bb-495d-9097-a7ddf62a9564",
          "showTitle": false,
          "title": ""
        },
        "id": "-NEVj_sUetsm",
        "colab": {
          "base_uri": "https://localhost:8080/"
        },
        "outputId": "725fd99b-4dea-4f61-923b-845853e2a48f"
      },
      "outputs": [
        {
          "output_type": "stream",
          "name": "stdout",
          "text": [
            "+---+------+----------------+------+------+-----+--------------------+----------+-------------+\n",
            "|age|gender|            name|course|  roll|marks|               email|percentage| country name|\n",
            "+---+------+----------------+------+------+-----+--------------------+----------+-------------+\n",
            "| 28|Female| Hubert Oliveras|    DB| 02984|   69|Annika Hoffman_Na...|      0.69|United States|\n",
            "| 29|Female|Toshiko Hillyard| Cloud| 12899|   72|Margene Moores_Ma...|      0.72|United States|\n",
            "| 28|  Male|  Celeste Lollis|    PF| 21267|   55|Jeannetta Golden_...|      0.55|United States|\n",
            "| 29|Female|    Elenore Choy|    DB| 32877|   39|Billi Clore_Mitzi...|      0.39|United States|\n",
            "| 28|  Male|  Sheryll Towler|   DSA| 41487|   51|Claude Panos_Judi...|      0.51|United States|\n",
            "| 28|  Male|  Margene Moores|   MVC| 52771|   42|Toshiko Hillyard_...|      0.42|United States|\n",
            "| 28|  Male|     Neda Briski|   OOP| 61973|   79|Alberta Freund_El...|      0.79|United States|\n",
            "| 28|Female|    Claude Panos| Cloud| 72409|   95|Sheryll Towler_Al...|      0.95|United States|\n",
            "| 28|  Male|  Celeste Lollis|   MVC| 81492|   74|Nicole Harwood_Cl...|      0.74|United States|\n",
            "| 29|  Male|  Cordie Harnois|   OOP| 92882|   61|Judie Chipps_Clem...|      0.61|United States|\n",
            "| 29|Female|       Kena Wild|   DSA|102285|   45|Dustin Feagins_Ma...|      0.45|United States|\n",
            "| 29|  Male| Ernest Rossbach|    DB|111449|   63|Maybell Duguay_Ab...|      0.63|United States|\n",
            "| 28|Female|  Latia Vanhoose|    DB|122502|   37|Latia Vanhoose_Mi...|      0.37|United States|\n",
            "| 29|Female|  Latia Vanhoose|   MVC|132110|   65|Eda Neathery_Nico...|      0.65|United States|\n",
            "| 29|  Male|     Neda Briski|    PF|141770|   52|Margene Moores_Mi...|      0.52|United States|\n",
            "| 29|Female|  Latia Vanhoose|    DB|152159|   37|Claude Panos_Sant...|      0.37|United States|\n",
            "| 29|  Male|  Loris Crossett|   MVC|161771|   46|Mitzi Seldon_Jenn...|      0.46|United States|\n",
            "| 29|  Male|  Annika Hoffman|   OOP|171660|   32|Taryn Brownlee_Mi...|      0.32|United States|\n",
            "| 29|  Male|   Santa Kerfien|    PF|182129|   66|Judie Chipps_Tary...|      0.66|United States|\n",
            "| 28|Female|Mickey Cortright|    DB|192537|   72|Ernest Rossbach_M...|      0.72|United States|\n",
            "+---+------+----------------+------+------+-----+--------------------+----------+-------------+\n",
            "only showing top 20 rows\n",
            "\n"
          ]
        }
      ],
      "source": [
        "#add a new column\n",
        "df = df.withColumn(\"country name\", lit(\"United States\"))\n",
        "df.show()"
      ]
    },
    {
      "cell_type": "code",
      "execution_count": 24,
      "metadata": {
        "application/vnd.databricks.v1+cell": {
          "cellMetadata": {
            "byteLimit": 2048000,
            "rowLimit": 10000
          },
          "inputWidgets": {},
          "nuid": "62a6a138-d0d9-4253-ae11-6bb5165cfd16",
          "showTitle": false,
          "title": ""
        },
        "id": "EuTVy-00etsm",
        "colab": {
          "base_uri": "https://localhost:8080/"
        },
        "outputId": "5e0ae9e9-ab68-4f93-d860-63fa867f9733"
      },
      "outputs": [
        {
          "output_type": "stream",
          "name": "stdout",
          "text": [
            "+---+------+----------------+------+-----------+-----+--------------------+----------+-------------+\n",
            "|age|   sex|            name|course|roll number|marks|               email|percentage| country name|\n",
            "+---+------+----------------+------+-----------+-----+--------------------+----------+-------------+\n",
            "| 28|Female| Hubert Oliveras|    DB|      02984|   69|Annika Hoffman_Na...|      0.69|United States|\n",
            "| 29|Female|Toshiko Hillyard| Cloud|      12899|   72|Margene Moores_Ma...|      0.72|United States|\n",
            "| 28|  Male|  Celeste Lollis|    PF|      21267|   55|Jeannetta Golden_...|      0.55|United States|\n",
            "| 29|Female|    Elenore Choy|    DB|      32877|   39|Billi Clore_Mitzi...|      0.39|United States|\n",
            "| 28|  Male|  Sheryll Towler|   DSA|      41487|   51|Claude Panos_Judi...|      0.51|United States|\n",
            "| 28|  Male|  Margene Moores|   MVC|      52771|   42|Toshiko Hillyard_...|      0.42|United States|\n",
            "| 28|  Male|     Neda Briski|   OOP|      61973|   79|Alberta Freund_El...|      0.79|United States|\n",
            "| 28|Female|    Claude Panos| Cloud|      72409|   95|Sheryll Towler_Al...|      0.95|United States|\n",
            "| 28|  Male|  Celeste Lollis|   MVC|      81492|   74|Nicole Harwood_Cl...|      0.74|United States|\n",
            "| 29|  Male|  Cordie Harnois|   OOP|      92882|   61|Judie Chipps_Clem...|      0.61|United States|\n",
            "| 29|Female|       Kena Wild|   DSA|     102285|   45|Dustin Feagins_Ma...|      0.45|United States|\n",
            "| 29|  Male| Ernest Rossbach|    DB|     111449|   63|Maybell Duguay_Ab...|      0.63|United States|\n",
            "| 28|Female|  Latia Vanhoose|    DB|     122502|   37|Latia Vanhoose_Mi...|      0.37|United States|\n",
            "| 29|Female|  Latia Vanhoose|   MVC|     132110|   65|Eda Neathery_Nico...|      0.65|United States|\n",
            "| 29|  Male|     Neda Briski|    PF|     141770|   52|Margene Moores_Mi...|      0.52|United States|\n",
            "| 29|Female|  Latia Vanhoose|    DB|     152159|   37|Claude Panos_Sant...|      0.37|United States|\n",
            "| 29|  Male|  Loris Crossett|   MVC|     161771|   46|Mitzi Seldon_Jenn...|      0.46|United States|\n",
            "| 29|  Male|  Annika Hoffman|   OOP|     171660|   32|Taryn Brownlee_Mi...|      0.32|United States|\n",
            "| 29|  Male|   Santa Kerfien|    PF|     182129|   66|Judie Chipps_Tary...|      0.66|United States|\n",
            "| 28|Female|Mickey Cortright|    DB|     192537|   72|Ernest Rossbach_M...|      0.72|United States|\n",
            "+---+------+----------------+------+-----------+-----+--------------------+----------+-------------+\n",
            "only showing top 20 rows\n",
            "\n"
          ]
        }
      ],
      "source": [
        "# rename a column\n",
        "df = df.withColumnRenamed(\"gender\",\"sex\").withColumnRenamed(\"roll\", \"roll number\")\n",
        "df.show()"
      ]
    },
    {
      "cell_type": "code",
      "execution_count": 25,
      "metadata": {
        "application/vnd.databricks.v1+cell": {
          "cellMetadata": {
            "byteLimit": 2048000,
            "rowLimit": 10000
          },
          "inputWidgets": {},
          "nuid": "ef6a3586-ba1a-4a8c-a16c-c242850864a6",
          "showTitle": false,
          "title": ""
        },
        "id": "RdxMuBx-etsn",
        "colab": {
          "base_uri": "https://localhost:8080/"
        },
        "outputId": "a3d4500c-660a-4ca6-c258-aeec38e0a76e"
      },
      "outputs": [
        {
          "output_type": "stream",
          "name": "stdout",
          "text": [
            "+----------------+\n",
            "|       Full Name|\n",
            "+----------------+\n",
            "| Hubert Oliveras|\n",
            "|Toshiko Hillyard|\n",
            "|  Celeste Lollis|\n",
            "|    Elenore Choy|\n",
            "|  Sheryll Towler|\n",
            "|  Margene Moores|\n",
            "|     Neda Briski|\n",
            "|    Claude Panos|\n",
            "|  Celeste Lollis|\n",
            "|  Cordie Harnois|\n",
            "|       Kena Wild|\n",
            "| Ernest Rossbach|\n",
            "|  Latia Vanhoose|\n",
            "|  Latia Vanhoose|\n",
            "|     Neda Briski|\n",
            "|  Latia Vanhoose|\n",
            "|  Loris Crossett|\n",
            "|  Annika Hoffman|\n",
            "|   Santa Kerfien|\n",
            "|Mickey Cortright|\n",
            "+----------------+\n",
            "only showing top 20 rows\n",
            "\n"
          ]
        }
      ],
      "source": [
        "df.select(col(\"name\").alias(\"Full Name\")).show()"
      ]
    },
    {
      "cell_type": "code",
      "execution_count": 26,
      "metadata": {
        "application/vnd.databricks.v1+cell": {
          "cellMetadata": {
            "byteLimit": 2048000,
            "rowLimit": 10000
          },
          "inputWidgets": {},
          "nuid": "469e0f09-bc8b-4537-b4ea-12f340045991",
          "showTitle": false,
          "title": ""
        },
        "id": "LXd2zR__etsn",
        "colab": {
          "base_uri": "https://localhost:8080/"
        },
        "outputId": "8157e1c0-dd89-4262-87ca-4e05b97b755a"
      },
      "outputs": [
        {
          "output_type": "stream",
          "name": "stdout",
          "text": [
            "+---+------+----------------+------+-----------+-----+--------------------+----------+-------------+\n",
            "|age|   sex|            name|course|roll number|marks|               email|percentage| country name|\n",
            "+---+------+----------------+------+-----------+-----+--------------------+----------+-------------+\n",
            "| 28|Female| Hubert Oliveras|    DB|      02984|   69|Annika Hoffman_Na...|      0.69|United States|\n",
            "| 29|Female|Toshiko Hillyard| Cloud|      12899|   72|Margene Moores_Ma...|      0.72|United States|\n",
            "| 28|  Male|  Celeste Lollis|    PF|      21267|   55|Jeannetta Golden_...|      0.55|United States|\n",
            "| 29|Female|    Elenore Choy|    DB|      32877|   39|Billi Clore_Mitzi...|      0.39|United States|\n",
            "| 28|  Male|  Sheryll Towler|   DSA|      41487|   51|Claude Panos_Judi...|      0.51|United States|\n",
            "| 28|  Male|  Margene Moores|   MVC|      52771|   42|Toshiko Hillyard_...|      0.42|United States|\n",
            "| 28|  Male|     Neda Briski|   OOP|      61973|   79|Alberta Freund_El...|      0.79|United States|\n",
            "| 28|Female|    Claude Panos| Cloud|      72409|   95|Sheryll Towler_Al...|      0.95|United States|\n",
            "| 28|  Male|  Celeste Lollis|   MVC|      81492|   74|Nicole Harwood_Cl...|      0.74|United States|\n",
            "| 29|  Male|  Cordie Harnois|   OOP|      92882|   61|Judie Chipps_Clem...|      0.61|United States|\n",
            "| 29|Female|       Kena Wild|   DSA|     102285|   45|Dustin Feagins_Ma...|      0.45|United States|\n",
            "| 29|  Male| Ernest Rossbach|    DB|     111449|   63|Maybell Duguay_Ab...|      0.63|United States|\n",
            "| 28|Female|  Latia Vanhoose|    DB|     122502|   37|Latia Vanhoose_Mi...|      0.37|United States|\n",
            "| 29|Female|  Latia Vanhoose|   MVC|     132110|   65|Eda Neathery_Nico...|      0.65|United States|\n",
            "| 29|  Male|     Neda Briski|    PF|     141770|   52|Margene Moores_Mi...|      0.52|United States|\n",
            "| 29|Female|  Latia Vanhoose|    DB|     152159|   37|Claude Panos_Sant...|      0.37|United States|\n",
            "| 29|  Male|  Loris Crossett|   MVC|     161771|   46|Mitzi Seldon_Jenn...|      0.46|United States|\n",
            "| 29|  Male|  Annika Hoffman|   OOP|     171660|   32|Taryn Brownlee_Mi...|      0.32|United States|\n",
            "| 29|  Male|   Santa Kerfien|    PF|     182129|   66|Judie Chipps_Tary...|      0.66|United States|\n",
            "| 28|Female|Mickey Cortright|    DB|     192537|   72|Ernest Rossbach_M...|      0.72|United States|\n",
            "+---+------+----------------+------+-----------+-----+--------------------+----------+-------------+\n",
            "only showing top 20 rows\n",
            "\n"
          ]
        }
      ],
      "source": [
        "df.show()"
      ]
    },
    {
      "cell_type": "code",
      "execution_count": 27,
      "metadata": {
        "application/vnd.databricks.v1+cell": {
          "cellMetadata": {
            "byteLimit": 2048000,
            "rowLimit": 10000
          },
          "inputWidgets": {},
          "nuid": "2c1eda1d-c17f-4285-afaf-6d897e418e9b",
          "showTitle": false,
          "title": ""
        },
        "id": "TbJ7-E2Letsn",
        "colab": {
          "base_uri": "https://localhost:8080/"
        },
        "outputId": "de592598-763f-4521-bf00-53f6e6334f20"
      },
      "outputs": [
        {
          "output_type": "stream",
          "name": "stdout",
          "text": [
            "+---+------+-----------------+------+-----------+-----+--------------------+----------+-------------+\n",
            "|age|   sex|             name|course|roll number|marks|               email|percentage| country name|\n",
            "+---+------+-----------------+------+-----------+-----+--------------------+----------+-------------+\n",
            "| 28|Female|  Hubert Oliveras|    DB|      02984|   69|Annika Hoffman_Na...|      0.69|United States|\n",
            "| 29|Female|     Elenore Choy|    DB|      32877|   39|Billi Clore_Mitzi...|      0.39|United States|\n",
            "| 29|  Male|  Ernest Rossbach|    DB|     111449|   63|Maybell Duguay_Ab...|      0.63|United States|\n",
            "| 28|Female|   Latia Vanhoose|    DB|     122502|   37|Latia Vanhoose_Mi...|      0.37|United States|\n",
            "| 29|Female|   Latia Vanhoose|    DB|     152159|   37|Claude Panos_Sant...|      0.37|United States|\n",
            "| 28|Female| Mickey Cortright|    DB|     192537|   72|Ernest Rossbach_M...|      0.72|United States|\n",
            "| 28|Female|      Anna Santos|    DB|     311589|   89|Celeste Lollis_Mi...|      0.89|United States|\n",
            "| 28|  Male|    Kizzy Brenner|    DB|     381712|   46|Paris Hutton_Kena...|      0.46|United States|\n",
            "| 28|  Male| Toshiko Hillyard|    DB|     392218|   57|Leontine Phillips...|      0.57|United States|\n",
            "| 29|  Male|     Paris Hutton|    DB|     481229|   67|Clementina Menke_...|      0.67|United States|\n",
            "| 28|Female| Mickey Cortright|    DB|     551389|   53|Tijuana Kropf_Jen...|      0.53|United States|\n",
            "| 28|Female|Leontine Phillips|    DB|     602404|   58|Neda Briski_Cheri...|      0.58|United States|\n",
            "| 28|Female|  Hubert Oliveras|    DB|     771081|   89|Kizzy Brenner_Dus...|      0.89|United States|\n",
            "| 29|Female|     Elenore Choy|    DB|     811824|   65|Maybell Duguay_Me...|      0.65|United States|\n",
            "| 29|  Male| Clementina Menke|    DB|     882200|   86|Michelle Ruggiero...|      0.86|United States|\n",
            "| 29|Female|  Sebrina Maresca|    DB|     922210|   64|Toshiko Hillyard_...|      0.64|United States|\n",
            "| 29|  Male|     Naoma Fritts|    DB|     931295|   89|Hubert Oliveras_S...|      0.89|United States|\n",
            "| 28|  Male|   Annika Hoffman|    DB|    1031544|   54|Dustin Feagins_So...|      0.54|United States|\n",
            "| 28|  Male|   Nicole Harwood|    DB|    1211495|   38|Melani Engberg_Jc...|      0.38|United States|\n",
            "| 29|Female|     Claude Panos|    DB|    1222887|   85|Hubert Oliveras_S...|      0.85|United States|\n",
            "+---+------+-----------------+------+-----------+-----+--------------------+----------+-------------+\n",
            "only showing top 20 rows\n",
            "\n"
          ]
        }
      ],
      "source": [
        "#Filter\n",
        "df.filter(df.course == \"DB\").show()"
      ]
    },
    {
      "cell_type": "code",
      "execution_count": 28,
      "metadata": {
        "application/vnd.databricks.v1+cell": {
          "cellMetadata": {
            "byteLimit": 2048000,
            "rowLimit": 10000
          },
          "inputWidgets": {},
          "nuid": "33147d8e-27a5-4ce0-aaf5-489fcaf66f39",
          "showTitle": false,
          "title": ""
        },
        "id": "ce4YkwFketsn",
        "colab": {
          "base_uri": "https://localhost:8080/"
        },
        "outputId": "373e292a-2f6a-4c24-db8e-df897a21b226"
      },
      "outputs": [
        {
          "output_type": "stream",
          "name": "stdout",
          "text": [
            "+---+------+-----------------+------+-----------+-----+--------------------+----------+-------------+\n",
            "|age|   sex|             name|course|roll number|marks|               email|percentage| country name|\n",
            "+---+------+-----------------+------+-----------+-----+--------------------+----------+-------------+\n",
            "| 28|Female|  Hubert Oliveras|    DB|      02984|   69|Annika Hoffman_Na...|      0.69|United States|\n",
            "| 29|Female|     Elenore Choy|    DB|      32877|   39|Billi Clore_Mitzi...|      0.39|United States|\n",
            "| 29|  Male|  Ernest Rossbach|    DB|     111449|   63|Maybell Duguay_Ab...|      0.63|United States|\n",
            "| 28|Female|   Latia Vanhoose|    DB|     122502|   37|Latia Vanhoose_Mi...|      0.37|United States|\n",
            "| 29|Female|   Latia Vanhoose|    DB|     152159|   37|Claude Panos_Sant...|      0.37|United States|\n",
            "| 28|Female| Mickey Cortright|    DB|     192537|   72|Ernest Rossbach_M...|      0.72|United States|\n",
            "| 28|Female|      Anna Santos|    DB|     311589|   89|Celeste Lollis_Mi...|      0.89|United States|\n",
            "| 28|  Male|    Kizzy Brenner|    DB|     381712|   46|Paris Hutton_Kena...|      0.46|United States|\n",
            "| 28|  Male| Toshiko Hillyard|    DB|     392218|   57|Leontine Phillips...|      0.57|United States|\n",
            "| 29|  Male|     Paris Hutton|    DB|     481229|   67|Clementina Menke_...|      0.67|United States|\n",
            "| 28|Female| Mickey Cortright|    DB|     551389|   53|Tijuana Kropf_Jen...|      0.53|United States|\n",
            "| 28|Female|Leontine Phillips|    DB|     602404|   58|Neda Briski_Cheri...|      0.58|United States|\n",
            "| 28|Female|  Hubert Oliveras|    DB|     771081|   89|Kizzy Brenner_Dus...|      0.89|United States|\n",
            "| 29|Female|     Elenore Choy|    DB|     811824|   65|Maybell Duguay_Me...|      0.65|United States|\n",
            "| 29|  Male| Clementina Menke|    DB|     882200|   86|Michelle Ruggiero...|      0.86|United States|\n",
            "| 29|Female|  Sebrina Maresca|    DB|     922210|   64|Toshiko Hillyard_...|      0.64|United States|\n",
            "| 29|  Male|     Naoma Fritts|    DB|     931295|   89|Hubert Oliveras_S...|      0.89|United States|\n",
            "| 28|  Male|   Annika Hoffman|    DB|    1031544|   54|Dustin Feagins_So...|      0.54|United States|\n",
            "| 28|  Male|   Nicole Harwood|    DB|    1211495|   38|Melani Engberg_Jc...|      0.38|United States|\n",
            "| 29|Female|     Claude Panos|    DB|    1222887|   85|Hubert Oliveras_S...|      0.85|United States|\n",
            "+---+------+-----------------+------+-----------+-----+--------------------+----------+-------------+\n",
            "only showing top 20 rows\n",
            "\n"
          ]
        }
      ],
      "source": [
        "df.filter(col(\"course\") == \"DB\").show()"
      ]
    },
    {
      "cell_type": "code",
      "execution_count": 29,
      "metadata": {
        "application/vnd.databricks.v1+cell": {
          "cellMetadata": {
            "byteLimit": 2048000,
            "rowLimit": 10000
          },
          "inputWidgets": {},
          "nuid": "2e12bf1f-748a-4883-b567-492602a7f6b5",
          "showTitle": false,
          "title": ""
        },
        "id": "57IZgNx-etsn",
        "colab": {
          "base_uri": "https://localhost:8080/"
        },
        "outputId": "94581fa5-23fe-4b01-ac1f-341cad17fd3e"
      },
      "outputs": [
        {
          "output_type": "stream",
          "name": "stdout",
          "text": [
            "+---+------+-----------------+------+-----------+-----+--------------------+----------+-------------+\n",
            "|age|   sex|             name|course|roll number|marks|               email|percentage| country name|\n",
            "+---+------+-----------------+------+-----------+-----+--------------------+----------+-------------+\n",
            "| 28|Female|  Hubert Oliveras|    DB|      02984|   69|Annika Hoffman_Na...|      0.69|United States|\n",
            "| 29|  Male|  Ernest Rossbach|    DB|     111449|   63|Maybell Duguay_Ab...|      0.63|United States|\n",
            "| 28|Female| Mickey Cortright|    DB|     192537|   72|Ernest Rossbach_M...|      0.72|United States|\n",
            "| 28|Female|      Anna Santos|    DB|     311589|   89|Celeste Lollis_Mi...|      0.89|United States|\n",
            "| 28|  Male| Toshiko Hillyard|    DB|     392218|   57|Leontine Phillips...|      0.57|United States|\n",
            "| 29|  Male|     Paris Hutton|    DB|     481229|   67|Clementina Menke_...|      0.67|United States|\n",
            "| 28|Female| Mickey Cortright|    DB|     551389|   53|Tijuana Kropf_Jen...|      0.53|United States|\n",
            "| 28|Female|Leontine Phillips|    DB|     602404|   58|Neda Briski_Cheri...|      0.58|United States|\n",
            "| 28|Female|  Hubert Oliveras|    DB|     771081|   89|Kizzy Brenner_Dus...|      0.89|United States|\n",
            "| 29|Female|     Elenore Choy|    DB|     811824|   65|Maybell Duguay_Me...|      0.65|United States|\n",
            "| 29|  Male| Clementina Menke|    DB|     882200|   86|Michelle Ruggiero...|      0.86|United States|\n",
            "| 29|Female|  Sebrina Maresca|    DB|     922210|   64|Toshiko Hillyard_...|      0.64|United States|\n",
            "| 29|  Male|     Naoma Fritts|    DB|     931295|   89|Hubert Oliveras_S...|      0.89|United States|\n",
            "| 28|  Male|   Annika Hoffman|    DB|    1031544|   54|Dustin Feagins_So...|      0.54|United States|\n",
            "| 29|Female|     Claude Panos|    DB|    1222887|   85|Hubert Oliveras_S...|      0.85|United States|\n",
            "| 29|Female|Leontine Phillips|    DB|    1432252|   77|Billi Clore_Shery...|      0.77|United States|\n",
            "| 28|Female|  Gonzalo Ferebee|    DB|    1451513|   79|Claude Panos_Tame...|      0.79|United States|\n",
            "| 28|  Male|  Marylee Capasso|    DB|    1611411|  106|Annika Hoffman_Lo...|      1.06|United States|\n",
            "| 29|Female|Michelle Ruggiero|    DB|    1642509|   55|Hubert Oliveras_M...|      0.55|United States|\n",
            "| 29|  Male|   Alberta Freund|    DB|    1671638|  108|Clementina Menke_...|      1.08|United States|\n",
            "+---+------+-----------------+------+-----------+-----+--------------------+----------+-------------+\n",
            "only showing top 20 rows\n",
            "\n"
          ]
        }
      ],
      "source": [
        "df.filter( (df.course == \"DB\") & (df.marks > 50) ).show()"
      ]
    },
    {
      "cell_type": "code",
      "execution_count": 30,
      "metadata": {
        "application/vnd.databricks.v1+cell": {
          "cellMetadata": {
            "byteLimit": 2048000,
            "rowLimit": 10000
          },
          "inputWidgets": {},
          "nuid": "60f6bf21-5aea-4385-b4c3-456647ffa7ad",
          "showTitle": false,
          "title": ""
        },
        "id": "Y4N4Ek5Zetsn",
        "colab": {
          "base_uri": "https://localhost:8080/"
        },
        "outputId": "9ed71f7c-88f4-4955-d2a8-f4b4ffe6c034"
      },
      "outputs": [
        {
          "output_type": "stream",
          "name": "stdout",
          "text": [
            "+---+------+----------------+------+-----------+-----+--------------------+----------+-------------+\n",
            "|age|   sex|            name|course|roll number|marks|               email|percentage| country name|\n",
            "+---+------+----------------+------+-----------+-----+--------------------+----------+-------------+\n",
            "| 28|Female| Hubert Oliveras|    DB|      02984|   69|Annika Hoffman_Na...|      0.69|United States|\n",
            "| 29|Female|Toshiko Hillyard| Cloud|      12899|   72|Margene Moores_Ma...|      0.72|United States|\n",
            "| 29|Female|    Elenore Choy|    DB|      32877|   39|Billi Clore_Mitzi...|      0.39|United States|\n",
            "| 28|  Male|  Sheryll Towler|   DSA|      41487|   51|Claude Panos_Judi...|      0.51|United States|\n",
            "| 28|  Male|     Neda Briski|   OOP|      61973|   79|Alberta Freund_El...|      0.79|United States|\n",
            "| 28|Female|    Claude Panos| Cloud|      72409|   95|Sheryll Towler_Al...|      0.95|United States|\n",
            "| 29|  Male|  Cordie Harnois|   OOP|      92882|   61|Judie Chipps_Clem...|      0.61|United States|\n",
            "| 29|Female|       Kena Wild|   DSA|     102285|   45|Dustin Feagins_Ma...|      0.45|United States|\n",
            "| 29|  Male| Ernest Rossbach|    DB|     111449|   63|Maybell Duguay_Ab...|      0.63|United States|\n",
            "| 28|Female|  Latia Vanhoose|    DB|     122502|   37|Latia Vanhoose_Mi...|      0.37|United States|\n",
            "| 29|Female|  Latia Vanhoose|    DB|     152159|   37|Claude Panos_Sant...|      0.37|United States|\n",
            "| 29|  Male|  Annika Hoffman|   OOP|     171660|   32|Taryn Brownlee_Mi...|      0.32|United States|\n",
            "| 28|Female|Mickey Cortright|    DB|     192537|   72|Ernest Rossbach_M...|      0.72|United States|\n",
            "| 28|Female|       Kena Wild| Cloud|     221750|   70|Mitzi Seldon_Jenn...|       0.7|United States|\n",
            "| 28|Female|    Jc Andrepont|   DSA|     232060|   68|Billi Clore_Abram...|      0.68|United States|\n",
            "| 29|Female|     Anna Santos| Cloud|     242254|   78|Jc Andrepont_Hube...|      0.78|United States|\n",
            "| 28|Female|  Alberta Freund|   OOP|     251805|   93|Annika Hoffman_Sh...|      0.93|United States|\n",
            "| 28|Female|  Maybell Duguay| Cloud|     261439|   30|Nicole Harwood_Ju...|       0.3|United States|\n",
            "| 29|Female|    Paris Hutton|   DSA|     271472|  109|Sheryll Towler_Al...|      1.09|United States|\n",
            "| 29|Female|    Cheri Kenney| Cloud|     281408|   53|Annika Hoffman_Me...|      0.53|United States|\n",
            "+---+------+----------------+------+-----------+-----+--------------------+----------+-------------+\n",
            "only showing top 20 rows\n",
            "\n"
          ]
        }
      ],
      "source": [
        "courses = [\"DB\", \"Cloud\", \"OOP\", \"DSA\"]\n",
        "df.filter(df.course.isin(courses)).show()"
      ]
    },
    {
      "cell_type": "code",
      "execution_count": 31,
      "metadata": {
        "application/vnd.databricks.v1+cell": {
          "cellMetadata": {
            "byteLimit": 2048000,
            "rowLimit": 10000
          },
          "inputWidgets": {},
          "nuid": "c16fcb87-df94-463d-84a2-3a4b49c7f0b0",
          "showTitle": false,
          "title": ""
        },
        "id": "LKI6woG1etso",
        "colab": {
          "base_uri": "https://localhost:8080/"
        },
        "outputId": "b97fe97e-66af-4749-b214-d26ee3ff4ce0"
      },
      "outputs": [
        {
          "output_type": "stream",
          "name": "stdout",
          "text": [
            "+---+------+----------------+------+-----------+-----+--------------------+----------+-------------+\n",
            "|age|   sex|            name|course|roll number|marks|               email|percentage| country name|\n",
            "+---+------+----------------+------+-----------+-----+--------------------+----------+-------------+\n",
            "| 28|  Male|  Sheryll Towler|   DSA|      41487|   51|Claude Panos_Judi...|      0.51|United States|\n",
            "| 29|Female|       Kena Wild|   DSA|     102285|   45|Dustin Feagins_Ma...|      0.45|United States|\n",
            "| 28|Female|    Jc Andrepont|   DSA|     232060|   68|Billi Clore_Abram...|      0.68|United States|\n",
            "| 29|Female|    Paris Hutton|   DSA|     271472|  109|Sheryll Towler_Al...|      1.09|United States|\n",
            "| 28|Female|  Dustin Feagins|   DSA|     291984|   92|Abram Nagao_Kena ...|      0.92|United States|\n",
            "| 28|Female|Mickey Cortright|   DSA|     342003|   54|Mitzi Seldon_Jean...|      0.54|United States|\n",
            "| 29|Female|     Anna Santos|   DSA|     411479|   52|Kena Wild_Mitzi S...|      0.52|United States|\n",
            "| 28|Female|  Maybell Duguay|   DSA|     452141|   39|Leontine Phillips...|      0.39|United States|\n",
            "| 29|Female|    Paris Hutton|   DSA|     492159|   70|Nicole Harwood_Ma...|       0.7|United States|\n",
            "| 29|  Male|  Celeste Lollis|   DSA|     562065|   95|Jc Andrepont_Mela...|      0.95|United States|\n",
            "| 29|  Male|  Maybell Duguay|   DSA|     592061|   93|Eda Neathery_Jenn...|      0.93|United States|\n",
            "| 28|  Male|    Mitzi Seldon|   DSA|     622981|   55|Lawanda Wohlwend_...|      0.55|United States|\n",
            "| 28|Female|  Jenna Montague|   DSA|     691564|   36|Mitzi Seldon_Sebr...|      0.36|United States|\n",
            "| 28|Female|  Celeste Lollis|   DSA|     731879|   86|Hubert Oliveras_G...|      0.86|United States|\n",
            "| 28|  Male|  Sheryll Towler|   DSA|     831562|   69|Kena Wild_Gonzalo...|      0.69|United States|\n",
            "| 28|Female|  Sheryll Towler|   DSA|     871967|   74|Michelle Ruggiero...|      0.74|United States|\n",
            "| 28|  Male|  Margene Moores|   DSA|     892010|  103|Anna Santos_Naoma...|      1.03|United States|\n",
            "| 28|Female|  Somer Stoecker|   DSA|     901958|   74|Kizzy Brenner_Jc ...|      0.74|United States|\n",
            "| 28|Female|Lawanda Wohlwend|   DSA|     951686|   70|Loris Crossett_Ni...|       0.7|United States|\n",
            "| 28|  Male|  Jenna Montague|   DSA|    1002103|   46|Melani Engberg_Hu...|      0.46|United States|\n",
            "+---+------+----------------+------+-----------+-----+--------------------+----------+-------------+\n",
            "only showing top 20 rows\n",
            "\n"
          ]
        }
      ],
      "source": [
        "df.filter(df.course.startswith(\"DS\")).show()"
      ]
    },
    {
      "cell_type": "code",
      "execution_count": 32,
      "metadata": {
        "application/vnd.databricks.v1+cell": {
          "cellMetadata": {
            "byteLimit": 2048000,
            "rowLimit": 10000
          },
          "inputWidgets": {},
          "nuid": "93bf3213-4236-4d08-9692-d9329b686fea",
          "showTitle": false,
          "title": ""
        },
        "id": "KqlXPbafetso",
        "colab": {
          "base_uri": "https://localhost:8080/"
        },
        "outputId": "c3990d88-640d-499a-e3b0-3f3b79663428"
      },
      "outputs": [
        {
          "output_type": "stream",
          "name": "stdout",
          "text": [
            "+---+---+----+------+-----------+-----+-----+----------+------------+\n",
            "|age|sex|name|course|roll number|marks|email|percentage|country name|\n",
            "+---+---+----+------+-----------+-----+-----+----------+------------+\n",
            "+---+---+----+------+-----------+-----+-----+----------+------------+\n",
            "\n"
          ]
        }
      ],
      "source": [
        "df.filter(df.course.endswith(\"se\")).show()"
      ]
    },
    {
      "cell_type": "code",
      "execution_count": 33,
      "metadata": {
        "application/vnd.databricks.v1+cell": {
          "cellMetadata": {
            "byteLimit": 2048000,
            "rowLimit": 10000
          },
          "inputWidgets": {},
          "nuid": "e85f617b-e18e-4917-8ce6-46cc7a9b6391",
          "showTitle": false,
          "title": ""
        },
        "id": "kph7sShCetso",
        "colab": {
          "base_uri": "https://localhost:8080/"
        },
        "outputId": "8004e1c8-4e6c-4dff-c78e-a81b30f7142b"
      },
      "outputs": [
        {
          "output_type": "stream",
          "name": "stdout",
          "text": [
            "+---+---+----+------+-----------+-----+-----+----------+------------+\n",
            "|age|sex|name|course|roll number|marks|email|percentage|country name|\n",
            "+---+---+----+------+-----------+-----+-----+----------+------------+\n",
            "+---+---+----+------+-----------+-----+-----+----------+------------+\n",
            "\n"
          ]
        }
      ],
      "source": [
        "df.filter(df.course.contains(\"se\")).show()\n"
      ]
    },
    {
      "cell_type": "code",
      "execution_count": 34,
      "metadata": {
        "application/vnd.databricks.v1+cell": {
          "cellMetadata": {
            "byteLimit": 2048000,
            "rowLimit": 10000
          },
          "inputWidgets": {},
          "nuid": "192ba500-570e-4e0d-b0ab-46cbc73c2eaa",
          "showTitle": false,
          "title": ""
        },
        "id": "sTXXb5nhetso",
        "colab": {
          "base_uri": "https://localhost:8080/"
        },
        "outputId": "328b320a-57ff-49be-dbdf-d549328e1e13"
      },
      "outputs": [
        {
          "output_type": "stream",
          "name": "stdout",
          "text": [
            "+------+\n",
            "|   sex|\n",
            "+------+\n",
            "|Female|\n",
            "|  Male|\n",
            "+------+\n",
            "\n"
          ]
        }
      ],
      "source": [
        "df.select('sex').distinct().show()"
      ]
    },
    {
      "cell_type": "code",
      "execution_count": 35,
      "metadata": {
        "application/vnd.databricks.v1+cell": {
          "cellMetadata": {
            "byteLimit": 2048000,
            "rowLimit": 10000
          },
          "inputWidgets": {},
          "nuid": "bed40127-50be-4295-bc9c-776d41e2851c",
          "showTitle": false,
          "title": ""
        },
        "id": "wQ2IUS1Yetso",
        "colab": {
          "base_uri": "https://localhost:8080/"
        },
        "outputId": "a0699cd6-c94c-49c2-c8d3-112f2a20bba1"
      },
      "outputs": [
        {
          "output_type": "stream",
          "name": "stdout",
          "text": [
            "+---+\n",
            "|age|\n",
            "+---+\n",
            "| 28|\n",
            "| 29|\n",
            "+---+\n",
            "\n"
          ]
        }
      ],
      "source": [
        "df.select('age').distinct().show()"
      ]
    },
    {
      "cell_type": "code",
      "execution_count": 36,
      "metadata": {
        "application/vnd.databricks.v1+cell": {
          "cellMetadata": {
            "byteLimit": 2048000,
            "rowLimit": 10000
          },
          "inputWidgets": {},
          "nuid": "be2b91af-608b-4566-9ff9-89dd1d2d0291",
          "showTitle": false,
          "title": ""
        },
        "id": "LxmHjbt0etso",
        "colab": {
          "base_uri": "https://localhost:8080/"
        },
        "outputId": "f67ebc7d-182b-464d-b1d4-a21d8741a268"
      },
      "outputs": [
        {
          "output_type": "execute_result",
          "data": {
            "text/plain": [
              "157"
            ]
          },
          "metadata": {},
          "execution_count": 36
        }
      ],
      "source": [
        "#aggregate\n",
        "df.filter(df.course == \"DB\").count()"
      ]
    },
    {
      "cell_type": "code",
      "execution_count": 37,
      "metadata": {
        "application/vnd.databricks.v1+cell": {
          "cellMetadata": {
            "byteLimit": 2048000,
            "rowLimit": 10000
          },
          "inputWidgets": {},
          "nuid": "076b7b92-7e8f-4075-b2c4-b5e4031d4472",
          "showTitle": false,
          "title": ""
        },
        "id": "PXHfUzXFetsp",
        "colab": {
          "base_uri": "https://localhost:8080/"
        },
        "outputId": "9995dc2d-a81f-42bb-fa68-8f9d037a53f1"
      },
      "outputs": [
        {
          "output_type": "stream",
          "name": "stdout",
          "text": [
            "+---+------+-----------------+------+-----------+-----+--------------------+----------+-------------+\n",
            "|age|   sex|             name|course|roll number|marks|               email|percentage| country name|\n",
            "+---+------+-----------------+------+-----------+-----+--------------------+----------+-------------+\n",
            "| 28|Female|     Jc Andrepont|    PF|     972733|   30|Eda Neathery_Eda ...|       0.3|United States|\n",
            "| 28|Female|   Maybell Duguay| Cloud|     261439|   30|Nicole Harwood_Ju...|       0.3|United States|\n",
            "| 28|  Male|  Marylee Capasso|   DSA|    2081560|   30|Sheryll Towler_Do...|       0.3|United States|\n",
            "| 29|  Male|     Elenore Choy|    DB|    3652057|   30|Jc Andrepont_Gonz...|       0.3|United States|\n",
            "| 29|Female|   Tamera Blakley|   DSA|    3911247|   30|Donna Yerby_Bonit...|       0.3|United States|\n",
            "| 29|  Male|   Jalisa Swenson|   OOP|    4751515|   30|Annika Hoffman_Hu...|       0.3|United States|\n",
            "| 29|Female|  Gonzalo Ferebee|   DSA|    5631172|   30|Jeannetta Golden_...|       0.3|United States|\n",
            "| 29|  Male|Michelle Ruggiero|    PF|    6001585|   30|Paris Hutton_Marg...|       0.3|United States|\n",
            "| 29|Female|Michelle Ruggiero|    DB|    9232210|   30|Donna Yerby_Latia...|       0.3|United States|\n",
            "| 29|Female|  Gonzalo Ferebee|   OOP|    2262603|   31|Bonita Higuera_Ch...|      0.31|United States|\n",
            "| 29|Female|   Alberta Freund|   OOP|    4501424|   31|Toshiko Hillyard_...|      0.31|United States|\n",
            "| 28|  Male|      Abram Nagao| Cloud|    2652463|   31|Eda Neathery_Anni...|      0.31|United States|\n",
            "| 28|  Male|    Kizzy Brenner| Cloud|    4622328|   31|Leontine Phillips...|      0.31|United States|\n",
            "| 29|  Male|  Sebrina Maresca| Cloud|    5042394|   31|Donna Yerby_Miche...|      0.31|United States|\n",
            "| 28|Female|  Sebrina Maresca|    PF|    5742239|   31|Bonita Higuera_Se...|      0.31|United States|\n",
            "| 29|  Male|   Tamera Blakley|   OOP|    7341268|   31|Anna Santos_Naoma...|      0.31|United States|\n",
            "| 28|  Male|   Bonita Higuera| Cloud|    7671835|   31|Taryn Brownlee_Se...|      0.31|United States|\n",
            "| 29|Female|   Nicole Harwood|    PF|    8121198|   31|Bonita Higuera_Pr...|      0.31|United States|\n",
            "| 28|  Male|      Billi Clore|    DB|    9151306|   31|Latia Vanhoose_Er...|      0.31|United States|\n",
            "| 29|  Male|     Paris Hutton|   MVC|     752504|   32|Elenore Choy_Elen...|      0.32|United States|\n",
            "+---+------+-----------------+------+-----------+-----+--------------------+----------+-------------+\n",
            "only showing top 20 rows\n",
            "\n"
          ]
        }
      ],
      "source": [
        "df.sort(df.marks).show()"
      ]
    },
    {
      "cell_type": "code",
      "execution_count": 38,
      "metadata": {
        "application/vnd.databricks.v1+cell": {
          "cellMetadata": {
            "byteLimit": 2048000,
            "rowLimit": 10000
          },
          "inputWidgets": {},
          "nuid": "cdeb31c5-7b04-4a2e-98be-c40cd80b7958",
          "showTitle": false,
          "title": ""
        },
        "id": "2EK5uGYJetsp",
        "colab": {
          "base_uri": "https://localhost:8080/"
        },
        "outputId": "ff800b67-74d1-4fbe-e589-abc1f28281b4"
      },
      "outputs": [
        {
          "output_type": "stream",
          "name": "stdout",
          "text": [
            "+---+------+---------------+------+-----------+-----+--------------------+----------+-------------+\n",
            "|age|   sex|           name|course|roll number|marks|               email|percentage| country name|\n",
            "+---+------+---------------+------+-----------+-----+--------------------+----------+-------------+\n",
            "| 28|Female|   Jc Andrepont|    PF|     972733|   30|Eda Neathery_Eda ...|       0.3|United States|\n",
            "| 28|Female| Maybell Duguay| Cloud|     261439|   30|Nicole Harwood_Ju...|       0.3|United States|\n",
            "| 28|  Male|Marylee Capasso|   DSA|    2081560|   30|Sheryll Towler_Do...|       0.3|United States|\n",
            "| 28|Female|Sebrina Maresca|    PF|    5742239|   31|Bonita Higuera_Se...|      0.31|United States|\n",
            "| 28|  Male|    Abram Nagao| Cloud|    2652463|   31|Eda Neathery_Anni...|      0.31|United States|\n",
            "| 28|  Male|  Kizzy Brenner| Cloud|    4622328|   31|Leontine Phillips...|      0.31|United States|\n",
            "| 28|  Male| Bonita Higuera| Cloud|    7671835|   31|Taryn Brownlee_Se...|      0.31|United States|\n",
            "| 28|  Male|    Billi Clore|    DB|    9151306|   31|Latia Vanhoose_Er...|      0.31|United States|\n",
            "| 28|Female|   Cheri Kenney| Cloud|    2281771|   32|Tamera Blakley_Ab...|      0.32|United States|\n",
            "| 28|Female|    Donna Yerby| Cloud|    4392575|   32|Leontine Phillips...|      0.32|United States|\n",
            "| 28|  Male|   Eda Neathery|    PF|    5082430|   32|Leontine Phillips...|      0.32|United States|\n",
            "| 28|  Male|    Anna Santos|    DB|    9772185|   32|Kizzy Brenner_Ann...|      0.32|United States|\n",
            "| 28|  Male|  Santa Kerfien|   MVC|    1992202|   33|Annika Hoffman_Ta...|      0.33|United States|\n",
            "| 28|Female|    Neda Briski|    PF|    3251377|   33|Kizzy Brenner_Mic...|      0.33|United States|\n",
            "| 28|Female| Bonita Higuera| Cloud|    6061881|   33|Dustin Feagins_La...|      0.33|United States|\n",
            "| 28|  Male|Gonzalo Ferebee|   OOP|    7162059|   33|Melani Engberg_Me...|      0.33|United States|\n",
            "| 28|Female|  Santa Kerfien|   OOP|    3931948|   34|Jeannetta Golden_...|      0.34|United States|\n",
            "| 28|  Male| Bonita Higuera| Cloud|    1401526|   34|Jc Andrepont_Cher...|      0.34|United States|\n",
            "| 28|  Male|    Anna Santos|   OOP|    1621905|   34|Elenore Choy_Sant...|      0.34|United States|\n",
            "| 28|  Male| Alberta Freund| Cloud|    1802934|   34|Maybell Duguay_Pa...|      0.34|United States|\n",
            "+---+------+---------------+------+-----------+-----+--------------------+----------+-------------+\n",
            "only showing top 20 rows\n",
            "\n"
          ]
        }
      ],
      "source": [
        "df.sort(df.age,df.marks).show()"
      ]
    },
    {
      "cell_type": "code",
      "execution_count": 39,
      "metadata": {
        "application/vnd.databricks.v1+cell": {
          "cellMetadata": {
            "byteLimit": 2048000,
            "rowLimit": 10000
          },
          "inputWidgets": {},
          "nuid": "41c11e09-baea-4b4b-bdae-a95bd1dd7b63",
          "showTitle": false,
          "title": ""
        },
        "id": "oNJ-VVoEetsp",
        "colab": {
          "base_uri": "https://localhost:8080/"
        },
        "outputId": "264f6722-0573-4de3-db13-e2ed968415fa"
      },
      "outputs": [
        {
          "output_type": "stream",
          "name": "stdout",
          "text": [
            "+---+------+-----------------+------+-----------+-----+--------------------+----------+-------------+\n",
            "|age|   sex|             name|course|roll number|marks|               email|percentage| country name|\n",
            "+---+------+-----------------+------+-----------+-----+--------------------+----------+-------------+\n",
            "| 28|Female|     Jc Andrepont|    PF|     972733|   30|Eda Neathery_Eda ...|       0.3|United States|\n",
            "| 28|Female|   Maybell Duguay| Cloud|     261439|   30|Nicole Harwood_Ju...|       0.3|United States|\n",
            "| 28|  Male|  Marylee Capasso|   DSA|    2081560|   30|Sheryll Towler_Do...|       0.3|United States|\n",
            "| 29|  Male|     Elenore Choy|    DB|    3652057|   30|Jc Andrepont_Gonz...|       0.3|United States|\n",
            "| 29|Female|   Tamera Blakley|   DSA|    3911247|   30|Donna Yerby_Bonit...|       0.3|United States|\n",
            "| 29|  Male|   Jalisa Swenson|   OOP|    4751515|   30|Annika Hoffman_Hu...|       0.3|United States|\n",
            "| 29|Female|  Gonzalo Ferebee|   DSA|    5631172|   30|Jeannetta Golden_...|       0.3|United States|\n",
            "| 29|  Male|Michelle Ruggiero|    PF|    6001585|   30|Paris Hutton_Marg...|       0.3|United States|\n",
            "| 29|Female|Michelle Ruggiero|    DB|    9232210|   30|Donna Yerby_Latia...|       0.3|United States|\n",
            "| 29|Female|  Gonzalo Ferebee|   OOP|    2262603|   31|Bonita Higuera_Ch...|      0.31|United States|\n",
            "| 29|Female|   Alberta Freund|   OOP|    4501424|   31|Toshiko Hillyard_...|      0.31|United States|\n",
            "| 28|  Male|      Abram Nagao| Cloud|    2652463|   31|Eda Neathery_Anni...|      0.31|United States|\n",
            "| 28|  Male|    Kizzy Brenner| Cloud|    4622328|   31|Leontine Phillips...|      0.31|United States|\n",
            "| 29|  Male|  Sebrina Maresca| Cloud|    5042394|   31|Donna Yerby_Miche...|      0.31|United States|\n",
            "| 28|Female|  Sebrina Maresca|    PF|    5742239|   31|Bonita Higuera_Se...|      0.31|United States|\n",
            "| 29|  Male|   Tamera Blakley|   OOP|    7341268|   31|Anna Santos_Naoma...|      0.31|United States|\n",
            "| 28|  Male|   Bonita Higuera| Cloud|    7671835|   31|Taryn Brownlee_Se...|      0.31|United States|\n",
            "| 29|Female|   Nicole Harwood|    PF|    8121198|   31|Bonita Higuera_Pr...|      0.31|United States|\n",
            "| 28|  Male|      Billi Clore|    DB|    9151306|   31|Latia Vanhoose_Er...|      0.31|United States|\n",
            "| 29|  Male|     Paris Hutton|   MVC|     752504|   32|Elenore Choy_Elen...|      0.32|United States|\n",
            "+---+------+-----------------+------+-----------+-----+--------------------+----------+-------------+\n",
            "only showing top 20 rows\n",
            "\n"
          ]
        }
      ],
      "source": [
        "df.orderBy(df.marks).show()"
      ]
    },
    {
      "cell_type": "code",
      "execution_count": 40,
      "metadata": {
        "application/vnd.databricks.v1+cell": {
          "cellMetadata": {
            "byteLimit": 2048000,
            "rowLimit": 10000
          },
          "inputWidgets": {},
          "nuid": "47fc5af6-603b-4e57-a831-dbd3e886632d",
          "showTitle": false,
          "title": ""
        },
        "id": "93a3QCIsetsp",
        "colab": {
          "base_uri": "https://localhost:8080/"
        },
        "outputId": "e743cfd2-fe24-46b5-e002-470634b1a32b"
      },
      "outputs": [
        {
          "output_type": "stream",
          "name": "stdout",
          "text": [
            "+---+------+-----------------+------+-----------+-----+--------------------+----------+-------------+\n",
            "|age|   sex|             name|course|roll number|marks|               email|percentage| country name|\n",
            "+---+------+-----------------+------+-----------+-----+--------------------+----------+-------------+\n",
            "| 28|Female|     Jc Andrepont|    PF|     972733|   30|Eda Neathery_Eda ...|       0.3|United States|\n",
            "| 28|Female|   Maybell Duguay| Cloud|     261439|   30|Nicole Harwood_Ju...|       0.3|United States|\n",
            "| 29|Female|   Tamera Blakley|   DSA|    3911247|   30|Donna Yerby_Bonit...|       0.3|United States|\n",
            "| 29|Female|  Gonzalo Ferebee|   DSA|    5631172|   30|Jeannetta Golden_...|       0.3|United States|\n",
            "| 29|Female|Michelle Ruggiero|    DB|    9232210|   30|Donna Yerby_Latia...|       0.3|United States|\n",
            "| 29|Female|  Gonzalo Ferebee|   OOP|    2262603|   31|Bonita Higuera_Ch...|      0.31|United States|\n",
            "| 29|Female|   Alberta Freund|   OOP|    4501424|   31|Toshiko Hillyard_...|      0.31|United States|\n",
            "| 28|Female|  Sebrina Maresca|    PF|    5742239|   31|Bonita Higuera_Se...|      0.31|United States|\n",
            "| 29|Female|   Nicole Harwood|    PF|    8121198|   31|Bonita Higuera_Pr...|      0.31|United States|\n",
            "| 29|Female|   Maybell Duguay|   MVC|    1102536|   32|Somer Stoecker_Ma...|      0.32|United States|\n",
            "| 28|Female|     Cheri Kenney| Cloud|    2281771|   32|Tamera Blakley_Ab...|      0.32|United States|\n",
            "| 28|Female|      Donna Yerby| Cloud|    4392575|   32|Leontine Phillips...|      0.32|United States|\n",
            "| 29|Female|      Niki Klimek|    PF|     211508|   33|Cordie Harnois_Ju...|      0.33|United States|\n",
            "| 28|Female|   Bonita Higuera| Cloud|    6061881|   33|Dustin Feagins_La...|      0.33|United States|\n",
            "| 28|Female|      Neda Briski|    PF|    3251377|   33|Kizzy Brenner_Mic...|      0.33|United States|\n",
            "| 29|Female|     Naoma Fritts|   DSA|    4582052|   33|Kena Wild_Jenna M...|      0.33|United States|\n",
            "| 29|Female|  Hubert Oliveras|   DSA|    5542363|   33|Priscila Tavernie...|      0.33|United States|\n",
            "| 29|Female|   Sheryll Towler|   OOP|    6672653|   33|Jenna Montague_Sa...|      0.33|United States|\n",
            "| 29|Female|      Abram Nagao|    PF|    9711154|   33|Judie Chipps_Naom...|      0.33|United States|\n",
            "| 29|Female|   Jenna Montague|    PF|    9991617|   33|Anna Santos_Jenna...|      0.33|United States|\n",
            "+---+------+-----------------+------+-----------+-----+--------------------+----------+-------------+\n",
            "only showing top 20 rows\n",
            "\n"
          ]
        }
      ],
      "source": [
        "df.orderBy(df.sex,df.marks).show()"
      ]
    },
    {
      "cell_type": "code",
      "execution_count": 41,
      "metadata": {
        "application/vnd.databricks.v1+cell": {
          "cellMetadata": {
            "byteLimit": 2048000,
            "rowLimit": 10000
          },
          "inputWidgets": {},
          "nuid": "14773959-f708-49a7-94f3-bc16ac6c6052",
          "showTitle": false,
          "title": ""
        },
        "id": "RmLsVB0Setsp",
        "colab": {
          "base_uri": "https://localhost:8080/"
        },
        "outputId": "b11bfac2-fcbd-4f72-a144-b1ee260c1e65"
      },
      "outputs": [
        {
          "output_type": "stream",
          "name": "stdout",
          "text": [
            "+---+------+------------------+------+-----------+-----+--------------------+----------+-------------+\n",
            "|age|   sex|              name|course|roll number|marks|               email|percentage| country name|\n",
            "+---+------+------------------+------+-----------+-----+--------------------+----------+-------------+\n",
            "| 28|  Male|       Niki Klimek|   DSA|    5172507|  109|Marylee Capasso_E...|      1.09|United States|\n",
            "| 28|  Male|    Loris Crossett|   OOP|    9692316|  109|Judie Chipps_Mich...|      1.09|United States|\n",
            "| 29|  Male|    Maybell Duguay|    PF|     701486|  109|Clementina Menke_...|      1.09|United States|\n",
            "| 29|Female|      Eda Neathery|    PF|    9222608|  109|Kena Wild_Lawanda...|      1.09|United States|\n",
            "| 28|Female|      Judie Chipps|   OOP|    5451977|  109|Tamera Blakley_Mi...|      1.09|United States|\n",
            "| 29|Female|Priscila Tavernier|   OOP|    3902993|  109|Celeste Lollis_Bi...|      1.09|United States|\n",
            "| 29|Female|      Paris Hutton|   DSA|     271472|  109|Sheryll Towler_Al...|      1.09|United States|\n",
            "| 29|  Male| Michelle Ruggiero|   DSA|    1022971|  109|Cordie Harnois_Cl...|      1.09|United States|\n",
            "| 28|Female|    Melani Engberg| Cloud|    1872667|  109|Alberta Freund_Ni...|      1.09|United States|\n",
            "| 28|Female|    Jalisa Swenson|   MVC|    5712033|  109|Dustin Feagins_Hu...|      1.09|United States|\n",
            "| 29|  Male|   Gonzalo Ferebee|   MVC|    5772006|  109|Niki Klimek_Marge...|      1.09|United States|\n",
            "| 29|Female|    Alberta Freund|   DSA|    6071316|  109|Dustin Feagins_Se...|      1.09|United States|\n",
            "| 29|  Male|    Melani Engberg|    DB|    2941257|  108|Claude Panos_Kena...|      1.08|United States|\n",
            "| 28|  Male|    Jenna Montague|   OOP|    3331161|  108|Leontine Phillips...|      1.08|United States|\n",
            "| 29|Female|  Lawanda Wohlwend| Cloud|    7222880|  108|Sheryll Towler_An...|      1.08|United States|\n",
            "| 28|  Male|  Clementina Menke|   DSA|    2772189|  108|Donna Yerby_Judie...|      1.08|United States|\n",
            "| 28|  Male|    Loris Crossett|   OOP|    8172914|  108|Paris Hutton_Pari...|      1.08|United States|\n",
            "| 28|Female|      Judie Chipps|   DSA|    4631068|  108|Toshiko Hillyard_...|      1.08|United States|\n",
            "| 28|  Male|    Dustin Feagins|    DB|    8871049|  108|Jenna Montague_Cl...|      1.08|United States|\n",
            "| 29|  Male|    Alberta Freund|    DB|    1671638|  108|Clementina Menke_...|      1.08|United States|\n",
            "+---+------+------------------+------+-----------+-----+--------------------+----------+-------------+\n",
            "only showing top 20 rows\n",
            "\n"
          ]
        }
      ],
      "source": [
        "df.orderBy(df.marks.desc()).show()"
      ]
    },
    {
      "cell_type": "code",
      "execution_count": 42,
      "metadata": {
        "application/vnd.databricks.v1+cell": {
          "cellMetadata": {
            "byteLimit": 2048000,
            "rowLimit": 10000
          },
          "inputWidgets": {},
          "nuid": "9d6d1c8a-77a1-4782-88de-f97d7e0143c8",
          "showTitle": false,
          "title": ""
        },
        "id": "xZ2gdyc2etsq",
        "colab": {
          "base_uri": "https://localhost:8080/"
        },
        "outputId": "22926f27-8fec-414f-8b2d-9e509f5d8817"
      },
      "outputs": [
        {
          "output_type": "stream",
          "name": "stdout",
          "text": [
            "+---+----+-----------------+------+-----------+-----+--------------------+----------+-------------+\n",
            "|age| sex|             name|course|roll number|marks|               email|percentage| country name|\n",
            "+---+----+-----------------+------+-----------+-----+--------------------+----------+-------------+\n",
            "| 29|Male|     Elenore Choy|    DB|    3652057|   30|Jc Andrepont_Gonz...|       0.3|United States|\n",
            "| 28|Male|  Marylee Capasso|   DSA|    2081560|   30|Sheryll Towler_Do...|       0.3|United States|\n",
            "| 29|Male|   Jalisa Swenson|   OOP|    4751515|   30|Annika Hoffman_Hu...|       0.3|United States|\n",
            "| 29|Male|Michelle Ruggiero|    PF|    6001585|   30|Paris Hutton_Marg...|       0.3|United States|\n",
            "| 29|Male|   Tamera Blakley|   OOP|    7341268|   31|Anna Santos_Naoma...|      0.31|United States|\n",
            "| 28|Male|      Abram Nagao| Cloud|    2652463|   31|Eda Neathery_Anni...|      0.31|United States|\n",
            "| 28|Male|   Bonita Higuera| Cloud|    7671835|   31|Taryn Brownlee_Se...|      0.31|United States|\n",
            "| 28|Male|    Kizzy Brenner| Cloud|    4622328|   31|Leontine Phillips...|      0.31|United States|\n",
            "| 29|Male|  Sebrina Maresca| Cloud|    5042394|   31|Donna Yerby_Miche...|      0.31|United States|\n",
            "| 28|Male|      Billi Clore|    DB|    9151306|   31|Latia Vanhoose_Er...|      0.31|United States|\n",
            "| 29|Male|   Annika Hoffman|   OOP|     171660|   32|Taryn Brownlee_Mi...|      0.32|United States|\n",
            "| 29|Male|     Paris Hutton|   MVC|     752504|   32|Elenore Choy_Elen...|      0.32|United States|\n",
            "| 29|Male|   Margene Moores|   DSA|    3942449|   32|Tijuana Kropf_Nao...|      0.32|United States|\n",
            "| 28|Male|     Eda Neathery|    PF|    5082430|   32|Leontine Phillips...|      0.32|United States|\n",
            "| 29|Male|     Paris Hutton|   DSA|    9702829|   32|Hubert Oliveras_C...|      0.32|United States|\n",
            "| 28|Male|      Anna Santos|    DB|    9772185|   32|Kizzy Brenner_Ann...|      0.32|United States|\n",
            "| 29|Male|   Maybell Duguay|   DSA|    4441473|   33|Billi Clore_Cleme...|      0.33|United States|\n",
            "| 28|Male|    Santa Kerfien|   MVC|    1992202|   33|Annika Hoffman_Ta...|      0.33|United States|\n",
            "| 29|Male|   Tamera Blakley|   DSA|    2661934|   33|Alberta Freund_Ti...|      0.33|United States|\n",
            "| 29|Male|  Sebrina Maresca|    PF|    2712040|   33|Jeannetta Golden_...|      0.33|United States|\n",
            "+---+----+-----------------+------+-----------+-----+--------------------+----------+-------------+\n",
            "only showing top 20 rows\n",
            "\n"
          ]
        }
      ],
      "source": [
        "df.orderBy(df.sex.desc(),df.marks.asc()).show()"
      ]
    },
    {
      "cell_type": "code",
      "execution_count": 43,
      "metadata": {
        "application/vnd.databricks.v1+cell": {
          "cellMetadata": {
            "byteLimit": 2048000,
            "rowLimit": 10000
          },
          "inputWidgets": {},
          "nuid": "8ef20a5f-6d9c-42f4-9cfb-336fa45ffeb8",
          "showTitle": false,
          "title": ""
        },
        "id": "X-OYsIz0etsq",
        "colab": {
          "base_uri": "https://localhost:8080/"
        },
        "outputId": "84873fa7-58aa-446e-87fe-db3fea69883d"
      },
      "outputs": [
        {
          "output_type": "execute_result",
          "data": {
            "text/plain": [
              "DataFrame[sex: string, count: bigint]"
            ]
          },
          "metadata": {},
          "execution_count": 43
        }
      ],
      "source": [
        "df.groupBy('sex').count()"
      ]
    },
    {
      "cell_type": "code",
      "execution_count": 44,
      "metadata": {
        "application/vnd.databricks.v1+cell": {
          "cellMetadata": {
            "byteLimit": 2048000,
            "rowLimit": 10000
          },
          "inputWidgets": {},
          "nuid": "d55bc7e5-878f-44f7-9dee-2dfaec11ef62",
          "showTitle": false,
          "title": ""
        },
        "id": "PXTVr1_Fetsq",
        "colab": {
          "base_uri": "https://localhost:8080/"
        },
        "outputId": "1a11f461-c7bd-425a-84b9-ba8c84c4107f"
      },
      "outputs": [
        {
          "output_type": "stream",
          "name": "stdout",
          "text": [
            "+------+-----+\n",
            "|   sex|count|\n",
            "+------+-----+\n",
            "|Female|  501|\n",
            "|  Male|  499|\n",
            "+------+-----+\n",
            "\n"
          ]
        }
      ],
      "source": [
        "df.groupBy('sex').count().show()"
      ]
    },
    {
      "cell_type": "code",
      "execution_count": 45,
      "metadata": {
        "application/vnd.databricks.v1+cell": {
          "cellMetadata": {
            "byteLimit": 2048000,
            "rowLimit": 10000
          },
          "inputWidgets": {},
          "nuid": "eef8249e-68d7-486b-947c-5ee58829499e",
          "showTitle": false,
          "title": ""
        },
        "id": "J3kyzn2qetsq",
        "colab": {
          "base_uri": "https://localhost:8080/"
        },
        "outputId": "470f845b-fc21-455d-ac8c-eeab855dd3fc"
      },
      "outputs": [
        {
          "output_type": "stream",
          "name": "stdout",
          "text": [
            "+------+-----+\n",
            "|course|count|\n",
            "+------+-----+\n",
            "|    PF|  166|\n",
            "|    DB|  157|\n",
            "|   MVC|  157|\n",
            "|   DSA|  176|\n",
            "| Cloud|  192|\n",
            "|   OOP|  152|\n",
            "+------+-----+\n",
            "\n"
          ]
        }
      ],
      "source": [
        "df.groupBy('course').count().show()"
      ]
    },
    {
      "cell_type": "code",
      "execution_count": 46,
      "metadata": {
        "application/vnd.databricks.v1+cell": {
          "cellMetadata": {
            "byteLimit": 2048000,
            "rowLimit": 10000
          },
          "inputWidgets": {},
          "nuid": "4acbf088-667b-4dd2-b098-6221ae1c9337",
          "showTitle": false,
          "title": ""
        },
        "id": "y83zNcrGetsz",
        "colab": {
          "base_uri": "https://localhost:8080/"
        },
        "outputId": "dc8065f0-b369-4925-e5dc-daf52cc058be"
      },
      "outputs": [
        {
          "output_type": "stream",
          "name": "stdout",
          "text": [
            "+------+----------+\n",
            "|   sex|max(marks)|\n",
            "+------+----------+\n",
            "|Female|       109|\n",
            "|  Male|       109|\n",
            "+------+----------+\n",
            "\n"
          ]
        }
      ],
      "source": [
        "df.groupBy('sex').max('marks').show()"
      ]
    },
    {
      "cell_type": "code",
      "execution_count": 47,
      "metadata": {
        "application/vnd.databricks.v1+cell": {
          "cellMetadata": {
            "byteLimit": 2048000,
            "rowLimit": 10000
          },
          "inputWidgets": {},
          "nuid": "5b8ad0f1-6bed-47c1-b266-e6fc4137d892",
          "showTitle": false,
          "title": ""
        },
        "id": "r2p_jRs-ets0",
        "colab": {
          "base_uri": "https://localhost:8080/"
        },
        "outputId": "bf0a54ca-a785-4a9e-de4e-b6e5eb09cacc"
      },
      "outputs": [
        {
          "output_type": "stream",
          "name": "stdout",
          "text": [
            "+------+----------+\n",
            "|   sex|min(marks)|\n",
            "+------+----------+\n",
            "|Female|        30|\n",
            "|  Male|        30|\n",
            "+------+----------+\n",
            "\n"
          ]
        }
      ],
      "source": [
        "df.groupBy('sex').min('marks').show()"
      ]
    },
    {
      "cell_type": "code",
      "execution_count": 48,
      "metadata": {
        "application/vnd.databricks.v1+cell": {
          "cellMetadata": {
            "byteLimit": 2048000,
            "rowLimit": 10000
          },
          "inputWidgets": {},
          "nuid": "60e72c61-fb2d-44cc-b9cf-8cb0afd0a145",
          "showTitle": false,
          "title": ""
        },
        "id": "hrE5DJrxets0",
        "colab": {
          "base_uri": "https://localhost:8080/"
        },
        "outputId": "70a6b392-6728-468a-bcd2-b33f3bcd2433"
      },
      "outputs": [
        {
          "output_type": "stream",
          "name": "stdout",
          "text": [
            "+------+-----------------+\n",
            "|   sex|       avg(marks)|\n",
            "+------+-----------------+\n",
            "|Female|69.15369261477046|\n",
            "|  Male| 71.0440881763527|\n",
            "+------+-----------------+\n",
            "\n"
          ]
        }
      ],
      "source": [
        "df.groupBy('sex').avg('marks').show()"
      ]
    },
    {
      "cell_type": "code",
      "execution_count": 48,
      "metadata": {
        "application/vnd.databricks.v1+cell": {
          "cellMetadata": {},
          "inputWidgets": {},
          "nuid": "f7921dea-577c-451f-bfdd-6090beb055d4",
          "showTitle": false,
          "title": ""
        },
        "id": "C2sZLHiMets0"
      },
      "outputs": [],
      "source": []
    },
    {
      "cell_type": "code",
      "execution_count": 49,
      "metadata": {
        "application/vnd.databricks.v1+cell": {
          "cellMetadata": {
            "byteLimit": 2048000,
            "rowLimit": 10000
          },
          "inputWidgets": {},
          "nuid": "02f9305e-c2db-4523-af56-2b094747e046",
          "showTitle": false,
          "title": ""
        },
        "id": "Lm4MUcuqets0",
        "colab": {
          "base_uri": "https://localhost:8080/"
        },
        "outputId": "4b8a6620-9ae2-46b4-dc3b-de32ee2747b2"
      },
      "outputs": [
        {
          "output_type": "stream",
          "name": "stdout",
          "text": [
            "+---+------+----------------+------+-----------+-----+--------------------+----------+-------------+\n",
            "|age|   sex|            name|course|roll number|marks|               email|percentage| country name|\n",
            "+---+------+----------------+------+-----------+-----+--------------------+----------+-------------+\n",
            "| 28|Female| Hubert Oliveras|    DB|      02984|   69|Annika Hoffman_Na...|      0.69|United States|\n",
            "| 29|Female|Toshiko Hillyard| Cloud|      12899|   72|Margene Moores_Ma...|      0.72|United States|\n",
            "| 28|  Male|  Celeste Lollis|    PF|      21267|   55|Jeannetta Golden_...|      0.55|United States|\n",
            "| 29|Female|    Elenore Choy|    DB|      32877|   39|Billi Clore_Mitzi...|      0.39|United States|\n",
            "| 28|  Male|  Sheryll Towler|   DSA|      41487|   51|Claude Panos_Judi...|      0.51|United States|\n",
            "| 28|  Male|  Margene Moores|   MVC|      52771|   42|Toshiko Hillyard_...|      0.42|United States|\n",
            "| 28|  Male|     Neda Briski|   OOP|      61973|   79|Alberta Freund_El...|      0.79|United States|\n",
            "| 28|Female|    Claude Panos| Cloud|      72409|   95|Sheryll Towler_Al...|      0.95|United States|\n",
            "| 28|  Male|  Celeste Lollis|   MVC|      81492|   74|Nicole Harwood_Cl...|      0.74|United States|\n",
            "| 29|  Male|  Cordie Harnois|   OOP|      92882|   61|Judie Chipps_Clem...|      0.61|United States|\n",
            "| 29|Female|       Kena Wild|   DSA|     102285|   45|Dustin Feagins_Ma...|      0.45|United States|\n",
            "| 29|  Male| Ernest Rossbach|    DB|     111449|   63|Maybell Duguay_Ab...|      0.63|United States|\n",
            "| 28|Female|  Latia Vanhoose|    DB|     122502|   37|Latia Vanhoose_Mi...|      0.37|United States|\n",
            "| 29|Female|  Latia Vanhoose|   MVC|     132110|   65|Eda Neathery_Nico...|      0.65|United States|\n",
            "| 29|  Male|     Neda Briski|    PF|     141770|   52|Margene Moores_Mi...|      0.52|United States|\n",
            "| 29|Female|  Latia Vanhoose|    DB|     152159|   37|Claude Panos_Sant...|      0.37|United States|\n",
            "| 29|  Male|  Loris Crossett|   MVC|     161771|   46|Mitzi Seldon_Jenn...|      0.46|United States|\n",
            "| 29|  Male|  Annika Hoffman|   OOP|     171660|   32|Taryn Brownlee_Mi...|      0.32|United States|\n",
            "| 29|  Male|   Santa Kerfien|    PF|     182129|   66|Judie Chipps_Tary...|      0.66|United States|\n",
            "| 28|Female|Mickey Cortright|    DB|     192537|   72|Ernest Rossbach_M...|      0.72|United States|\n",
            "+---+------+----------------+------+-----------+-----+--------------------+----------+-------------+\n",
            "only showing top 20 rows\n",
            "\n"
          ]
        }
      ],
      "source": [
        "# df.createTempView(\"tiny_df\")\n",
        "df.createOrReplaceTempView(\"student_data\")\n",
        "result=spark.sql(\"SELECT * FROM student_data\")\n",
        "result.show()"
      ]
    },
    {
      "cell_type": "code",
      "execution_count": 50,
      "metadata": {
        "application/vnd.databricks.v1+cell": {
          "cellMetadata": {
            "byteLimit": 2048000,
            "implicitDf": true,
            "rowLimit": 10000
          },
          "inputWidgets": {},
          "nuid": "6b96d792-c8c1-419b-9570-74c8c02931b9",
          "showTitle": false,
          "title": ""
        },
        "id": "xhczD1ygets0",
        "colab": {
          "base_uri": "https://localhost:8080/"
        },
        "outputId": "fe851df8-c11b-46ba-f1b5-b4afed7276ea"
      },
      "outputs": [
        {
          "output_type": "stream",
          "name": "stdout",
          "text": [
            "+---+------+---------------+------+-----------+-----+--------------------+----------+-------------+\n",
            "|age|   sex|           name|course|roll number|marks|               email|percentage| country name|\n",
            "+---+------+---------------+------+-----------+-----+--------------------+----------+-------------+\n",
            "| 28|Female|Hubert Oliveras|    DB|      02984|   69|Annika Hoffman_Na...|      0.69|United States|\n",
            "| 28|  Male|Hubert Oliveras|   OOP|     351719|   73|Lawanda Wohlwend_...|      0.73|United States|\n",
            "| 29|  Male|Hubert Oliveras|   MVC|     672451|   38|Annika Hoffman_Mi...|      0.38|United States|\n",
            "| 28|Female|Hubert Oliveras|    DB|     771081|   89|Kizzy Brenner_Dus...|      0.89|United States|\n",
            "| 29|Female|Hubert Oliveras|   DSA|    1041483|   38|Billi Clore_Santa...|      0.38|United States|\n",
            "| 29|Female|Hubert Oliveras| Cloud|    1392791|  104|Anna Santos_Alber...|      1.04|United States|\n",
            "| 28|  Male|Hubert Oliveras|    PF|    1521724|  101|Eda Neathery_Jean...|      1.01|United States|\n",
            "| 28|  Male|Hubert Oliveras| Cloud|    3632954|   44|Ernest Rossbach_A...|      0.44|United States|\n",
            "| 29|  Male|Hubert Oliveras| Cloud|    4282001|   80|Billi Clore_Eleno...|       0.8|United States|\n",
            "| 28|Female|Hubert Oliveras|   DSA|    5342918|   92|Judie Chipps_Anni...|      0.92|United States|\n",
            "| 29|Female|Hubert Oliveras|   DSA|    5542363|   33|Priscila Tavernie...|      0.33|United States|\n",
            "| 29|  Male|Hubert Oliveras|   OOP|    7102834|   54|Hubert Oliveras_C...|      0.54|United States|\n",
            "| 28|  Male|Hubert Oliveras|   MVC|    7512833|   57|Loris Crossett_Je...|      0.57|United States|\n",
            "| 29|  Male|Hubert Oliveras| Cloud|    8191045|   39|Toshiko Hillyard_...|      0.39|United States|\n",
            "| 29|  Male|Hubert Oliveras|    DB|    9822797|   61|Lawanda Wohlwend_...|      0.61|United States|\n",
            "+---+------+---------------+------+-----------+-----+--------------------+----------+-------------+\n",
            "\n"
          ]
        }
      ],
      "source": [
        "# %sql SELECT * FROM tiny_df (code for databricks)\n",
        "spark.sql(\"SELECT*FROM student_data WHERE name=='Hubert Oliveras'\").show()"
      ]
    },
    {
      "cell_type": "code",
      "execution_count": 51,
      "metadata": {
        "application/vnd.databricks.v1+cell": {
          "cellMetadata": {
            "byteLimit": 2048000,
            "implicitDf": true,
            "rowLimit": 10000
          },
          "inputWidgets": {},
          "nuid": "8aa44249-d7bc-4e72-b096-8ba8e74e63b5",
          "showTitle": false,
          "title": ""
        },
        "id": "0fD-AvvHets0",
        "colab": {
          "base_uri": "https://localhost:8080/"
        },
        "outputId": "ecc6e113-0307-41c7-c9a8-1cc108511c6c"
      },
      "outputs": [
        {
          "output_type": "stream",
          "name": "stdout",
          "text": [
            "+---+------+-----------------+------+-----------+-----+--------------------+----------+-------------+\n",
            "|age|   sex|             name|course|roll number|marks|               email|percentage| country name|\n",
            "+---+------+-----------------+------+-----------+-----+--------------------+----------+-------------+\n",
            "| 28|Female|  Hubert Oliveras|    DB|      02984|   69|Annika Hoffman_Na...|      0.69|United States|\n",
            "| 29|Female|     Elenore Choy|    DB|      32877|   39|Billi Clore_Mitzi...|      0.39|United States|\n",
            "| 29|  Male|  Ernest Rossbach|    DB|     111449|   63|Maybell Duguay_Ab...|      0.63|United States|\n",
            "| 28|Female|   Latia Vanhoose|    DB|     122502|   37|Latia Vanhoose_Mi...|      0.37|United States|\n",
            "| 29|Female|   Latia Vanhoose|    DB|     152159|   37|Claude Panos_Sant...|      0.37|United States|\n",
            "| 28|Female| Mickey Cortright|    DB|     192537|   72|Ernest Rossbach_M...|      0.72|United States|\n",
            "| 28|Female|      Anna Santos|    DB|     311589|   89|Celeste Lollis_Mi...|      0.89|United States|\n",
            "| 28|  Male|    Kizzy Brenner|    DB|     381712|   46|Paris Hutton_Kena...|      0.46|United States|\n",
            "| 28|  Male| Toshiko Hillyard|    DB|     392218|   57|Leontine Phillips...|      0.57|United States|\n",
            "| 29|  Male|     Paris Hutton|    DB|     481229|   67|Clementina Menke_...|      0.67|United States|\n",
            "| 28|Female| Mickey Cortright|    DB|     551389|   53|Tijuana Kropf_Jen...|      0.53|United States|\n",
            "| 28|Female|Leontine Phillips|    DB|     602404|   58|Neda Briski_Cheri...|      0.58|United States|\n",
            "| 28|Female|  Hubert Oliveras|    DB|     771081|   89|Kizzy Brenner_Dus...|      0.89|United States|\n",
            "| 29|Female|     Elenore Choy|    DB|     811824|   65|Maybell Duguay_Me...|      0.65|United States|\n",
            "| 29|  Male| Clementina Menke|    DB|     882200|   86|Michelle Ruggiero...|      0.86|United States|\n",
            "| 29|Female|  Sebrina Maresca|    DB|     922210|   64|Toshiko Hillyard_...|      0.64|United States|\n",
            "| 29|  Male|     Naoma Fritts|    DB|     931295|   89|Hubert Oliveras_S...|      0.89|United States|\n",
            "| 28|  Male|   Annika Hoffman|    DB|    1031544|   54|Dustin Feagins_So...|      0.54|United States|\n",
            "| 28|  Male|   Nicole Harwood|    DB|    1211495|   38|Melani Engberg_Jc...|      0.38|United States|\n",
            "| 29|Female|     Claude Panos|    DB|    1222887|   85|Hubert Oliveras_S...|      0.85|United States|\n",
            "+---+------+-----------------+------+-----------+-----+--------------------+----------+-------------+\n",
            "only showing top 20 rows\n",
            "\n"
          ]
        }
      ],
      "source": [
        "# %sql SELECT * FROM tiny_df where course=='DB'\n",
        "spark.sql(\"SELECT * FROM student_data where course=='DB'\").show()"
      ]
    },
    {
      "cell_type": "code",
      "execution_count": 52,
      "metadata": {
        "application/vnd.databricks.v1+cell": {
          "cellMetadata": {
            "byteLimit": 2048000,
            "implicitDf": true,
            "rowLimit": 10000
          },
          "inputWidgets": {},
          "nuid": "42a5f1dd-006d-4468-9fd8-8ea28a9f3408",
          "showTitle": false,
          "title": ""
        },
        "id": "j5XHo3e5ets1",
        "colab": {
          "base_uri": "https://localhost:8080/"
        },
        "outputId": "5e07c953-4842-4644-9979-09cd6cd7eb90"
      },
      "outputs": [
        {
          "output_type": "stream",
          "name": "stdout",
          "text": [
            "+---+------+----------------+------+-----------+-----+--------------------+----------+-------------+\n",
            "|age|   sex|            name|course|roll number|marks|               email|percentage| country name|\n",
            "+---+------+----------------+------+-----------+-----+--------------------+----------+-------------+\n",
            "| 28|Female| Hubert Oliveras|    DB|      02984|   69|Annika Hoffman_Na...|      0.69|United States|\n",
            "| 29|Female|Toshiko Hillyard| Cloud|      12899|   72|Margene Moores_Ma...|      0.72|United States|\n",
            "| 29|Female|    Elenore Choy|    DB|      32877|   39|Billi Clore_Mitzi...|      0.39|United States|\n",
            "| 28|Female|    Claude Panos| Cloud|      72409|   95|Sheryll Towler_Al...|      0.95|United States|\n",
            "| 29|  Male| Ernest Rossbach|    DB|     111449|   63|Maybell Duguay_Ab...|      0.63|United States|\n",
            "| 28|Female|  Latia Vanhoose|    DB|     122502|   37|Latia Vanhoose_Mi...|      0.37|United States|\n",
            "| 29|Female|  Latia Vanhoose|    DB|     152159|   37|Claude Panos_Sant...|      0.37|United States|\n",
            "| 28|Female|Mickey Cortright|    DB|     192537|   72|Ernest Rossbach_M...|      0.72|United States|\n",
            "| 28|Female|       Kena Wild| Cloud|     221750|   70|Mitzi Seldon_Jenn...|       0.7|United States|\n",
            "| 29|Female|     Anna Santos| Cloud|     242254|   78|Jc Andrepont_Hube...|      0.78|United States|\n",
            "| 28|Female|  Maybell Duguay| Cloud|     261439|   30|Nicole Harwood_Ju...|       0.3|United States|\n",
            "| 29|Female|    Cheri Kenney| Cloud|     281408|   53|Annika Hoffman_Me...|      0.53|United States|\n",
            "| 29|Female|    Claude Panos| Cloud|     302130|   69|Sheryll Towler_Le...|      0.69|United States|\n",
            "| 28|Female|     Anna Santos|    DB|     311589|   89|Celeste Lollis_Mi...|      0.89|United States|\n",
            "| 28|  Male|   Kizzy Brenner|    DB|     381712|   46|Paris Hutton_Kena...|      0.46|United States|\n",
            "| 28|  Male|Toshiko Hillyard|    DB|     392218|   57|Leontine Phillips...|      0.57|United States|\n",
            "| 28|Female|   Kizzy Brenner| Cloud|     402409|   37|Ernest Rossbach_G...|      0.37|United States|\n",
            "| 29|Female|  Somer Stoecker| Cloud|     442028|   44|Taryn Brownlee_Ta...|      0.44|United States|\n",
            "| 29|  Male|    Paris Hutton|    DB|     481229|   67|Clementina Menke_...|      0.67|United States|\n",
            "| 29|  Male|     Billi Clore| Cloud|     512047|   86|Taryn Brownlee_Ju...|      0.86|United States|\n",
            "+---+------+----------------+------+-----------+-----+--------------------+----------+-------------+\n",
            "only showing top 20 rows\n",
            "\n"
          ]
        }
      ],
      "source": [
        "# %sql SELECT * FROM tiny_df where course=='DB' or course=='Cloud'\n",
        "spark.sql(\"SELECT * FROM student_data where course=='DB' or course=='Cloud'\").show()"
      ]
    },
    {
      "cell_type": "code",
      "execution_count": 53,
      "metadata": {
        "application/vnd.databricks.v1+cell": {
          "cellMetadata": {
            "byteLimit": 2048000,
            "implicitDf": true,
            "rowLimit": 10000
          },
          "inputWidgets": {},
          "nuid": "6ac2befb-e6aa-4da0-96cf-e1bf96ec2f8b",
          "showTitle": false,
          "title": ""
        },
        "id": "lqdXZjRDets1",
        "colab": {
          "base_uri": "https://localhost:8080/"
        },
        "outputId": "5c4ac4b6-dc40-4649-b0e2-32909c6156e3"
      },
      "outputs": [
        {
          "output_type": "stream",
          "name": "stdout",
          "text": [
            "+---+------+-----------------+------+-----------+-----+--------------------+----------+-------------+\n",
            "|age|   sex|             name|course|roll number|marks|               email|percentage| country name|\n",
            "+---+------+-----------------+------+-----------+-----+--------------------+----------+-------------+\n",
            "| 28|Female|   Maybell Duguay| Cloud|     261439|   30|Nicole Harwood_Ju...|       0.3|United States|\n",
            "| 29|  Male|     Elenore Choy|    DB|    3652057|   30|Jc Andrepont_Gonz...|       0.3|United States|\n",
            "| 29|Female|Michelle Ruggiero|    DB|    9232210|   30|Donna Yerby_Latia...|       0.3|United States|\n",
            "| 28|  Male|      Abram Nagao| Cloud|    2652463|   31|Eda Neathery_Anni...|      0.31|United States|\n",
            "| 28|  Male|    Kizzy Brenner| Cloud|    4622328|   31|Leontine Phillips...|      0.31|United States|\n",
            "| 29|  Male|  Sebrina Maresca| Cloud|    5042394|   31|Donna Yerby_Miche...|      0.31|United States|\n",
            "| 28|  Male|   Bonita Higuera| Cloud|    7671835|   31|Taryn Brownlee_Se...|      0.31|United States|\n",
            "| 28|  Male|      Billi Clore|    DB|    9151306|   31|Latia Vanhoose_Er...|      0.31|United States|\n",
            "| 28|Female|     Cheri Kenney| Cloud|    2281771|   32|Tamera Blakley_Ab...|      0.32|United States|\n",
            "| 28|Female|      Donna Yerby| Cloud|    4392575|   32|Leontine Phillips...|      0.32|United States|\n",
            "| 28|  Male|      Anna Santos|    DB|    9772185|   32|Kizzy Brenner_Ann...|      0.32|United States|\n",
            "| 28|Female|   Bonita Higuera| Cloud|    6061881|   33|Dustin Feagins_La...|      0.33|United States|\n",
            "| 29|  Male|Leontine Phillips| Cloud|    8162392|   33|Clementina Menke_...|      0.33|United States|\n",
            "| 29|Female|   Margene Moores| Cloud|    3232893|   34|Elenore Choy_Niki...|      0.34|United States|\n",
            "| 28|  Male|   Alberta Freund| Cloud|    1802934|   34|Maybell Duguay_Pa...|      0.34|United States|\n",
            "| 29|Female|      Niki Klimek|    DB|    1301784|   34|Celeste Lollis_Ta...|      0.34|United States|\n",
            "| 28|Female|     Judie Chipps|    DB|    5872939|   34|Mitzi Seldon_Pari...|      0.34|United States|\n",
            "| 28|  Male|   Bonita Higuera| Cloud|    1401526|   34|Jc Andrepont_Cher...|      0.34|United States|\n",
            "| 28|Female|   Melani Engberg| Cloud|    7531661|   35|Gonzalo Ferebee_D...|      0.35|United States|\n",
            "| 28|Female|      Abram Nagao|    DB|    2632057|   35|Margene Moores_So...|      0.35|United States|\n",
            "+---+------+-----------------+------+-----------+-----+--------------------+----------+-------------+\n",
            "only showing top 20 rows\n",
            "\n"
          ]
        }
      ],
      "source": [
        "\"\"\"%sql SELECT * FROM tiny_df\n",
        "where course=='DB' or course=='Cloud'\n",
        "order by marks \"\"\"\n",
        "\n",
        "spark.sql(\"SELECT * FROM student_data where course=='DB' or course=='Cloud' order by marks\").show()"
      ]
    },
    {
      "cell_type": "code",
      "execution_count": 54,
      "metadata": {
        "application/vnd.databricks.v1+cell": {
          "cellMetadata": {
            "byteLimit": 2048000,
            "implicitDf": true,
            "rowLimit": 10000
          },
          "inputWidgets": {},
          "nuid": "446d9964-bb6e-480f-ae3e-874b6c1072a8",
          "showTitle": false,
          "title": ""
        },
        "id": "zJV8S7TGets1",
        "colab": {
          "base_uri": "https://localhost:8080/"
        },
        "outputId": "0c3fdfba-8c1f-4790-f361-fe0ab74271df"
      },
      "outputs": [
        {
          "output_type": "stream",
          "name": "stdout",
          "text": [
            "+---+------+----------------+------+-----------+-----+--------------------+----------+-------------+\n",
            "|age|   sex|            name|course|roll number|marks|               email|percentage| country name|\n",
            "+---+------+----------------+------+-----------+-----+--------------------+----------+-------------+\n",
            "| 28|Female|  Melani Engberg| Cloud|    1872667|  109|Alberta Freund_Ni...|      1.09|United States|\n",
            "| 29|  Male|  Alberta Freund|    DB|    1671638|  108|Clementina Menke_...|      1.08|United States|\n",
            "| 29|  Male|  Melani Engberg|    DB|    2941257|  108|Claude Panos_Kena...|      1.08|United States|\n",
            "| 29|Female|Lawanda Wohlwend| Cloud|    7222880|  108|Sheryll Towler_An...|      1.08|United States|\n",
            "| 28|  Male|  Dustin Feagins|    DB|    8871049|  108|Jenna Montague_Cl...|      1.08|United States|\n",
            "| 29|Female| Sebrina Maresca| Cloud|    3261159|  107|Maybell Duguay_Ja...|      1.07|United States|\n",
            "| 28|  Male|    Jc Andrepont| Cloud|    5202136|  107|Jc Andrepont_Kena...|      1.07|United States|\n",
            "| 29|  Male|  Jalisa Swenson|    DB|    6141407|  107|Ernest Rossbach_A...|      1.07|United States|\n",
            "| 28|Female|  Jenna Montague| Cloud|    2402240|  106|Annika Hoffman_Du...|      1.06|United States|\n",
            "| 28|  Male| Marylee Capasso|    DB|    1611411|  106|Annika Hoffman_Lo...|      1.06|United States|\n",
            "| 29|Female| Ernest Rossbach|    DB|    9371629|  106|Melani Engberg_La...|      1.06|United States|\n",
            "| 28|Female|    Eda Neathery| Cloud|    2071302|  105|Latia Vanhoose_Do...|      1.05|United States|\n",
            "| 28|  Male|Clementina Menke| Cloud|    3352508|  105|Naoma Fritts_Mick...|      1.05|United States|\n",
            "| 28|  Male|    Naoma Fritts|    DB|    6422790|  105|Sheryll Towler_Er...|      1.05|United States|\n",
            "| 29|  Male|    Judie Chipps|    DB|    2112234|  104|Dustin Feagins_Ta...|      1.04|United States|\n",
            "| 28|  Male|  Bonita Higuera| Cloud|    1312294|  104|Eda Neathery_Pris...|      1.04|United States|\n",
            "| 29|Female| Hubert Oliveras| Cloud|    1392791|  104|Anna Santos_Alber...|      1.04|United States|\n",
            "| 29|Female|    Claude Panos| Cloud|    5521752|  104|Sebrina Maresca_S...|      1.04|United States|\n",
            "| 28|  Male|    Cheri Kenney| Cloud|    5641528|  104|Sebrina Maresca_L...|      1.04|United States|\n",
            "| 28|  Male|     Anna Santos| Cloud|    8571411|  104|Jc Andrepont_Cord...|      1.04|United States|\n",
            "+---+------+----------------+------+-----------+-----+--------------------+----------+-------------+\n",
            "only showing top 20 rows\n",
            "\n"
          ]
        }
      ],
      "source": [
        "\"\"\"%sql SELECT * FROM tiny_df\n",
        "where course=='DB' or course=='Cloud'\n",
        "order by marks desc\"\"\"\n",
        "\n",
        "spark.sql(\"SELECT * FROM student_data where course=='DB' or course=='Cloud' order by marks desc\").show()"
      ]
    },
    {
      "cell_type": "code",
      "execution_count": 55,
      "metadata": {
        "application/vnd.databricks.v1+cell": {
          "cellMetadata": {
            "byteLimit": 2048000,
            "implicitDf": true,
            "rowLimit": 10000
          },
          "inputWidgets": {},
          "nuid": "ea88c291-6d38-43cd-bb08-b1d7765352db",
          "showTitle": false,
          "title": ""
        },
        "id": "Y0cwlQs2ets1",
        "colab": {
          "base_uri": "https://localhost:8080/"
        },
        "outputId": "74448a28-c024-43f2-8f0a-72a47c673d75"
      },
      "outputs": [
        {
          "output_type": "stream",
          "name": "stdout",
          "text": [
            "+------+\n",
            "|course|\n",
            "+------+\n",
            "|    DB|\n",
            "| Cloud|\n",
            "|    PF|\n",
            "|    DB|\n",
            "|   DSA|\n",
            "|   MVC|\n",
            "|   OOP|\n",
            "| Cloud|\n",
            "|   MVC|\n",
            "|   OOP|\n",
            "|   DSA|\n",
            "|    DB|\n",
            "|    DB|\n",
            "|   MVC|\n",
            "|    PF|\n",
            "|    DB|\n",
            "|   MVC|\n",
            "|   OOP|\n",
            "|    PF|\n",
            "|    DB|\n",
            "+------+\n",
            "only showing top 20 rows\n",
            "\n"
          ]
        }
      ],
      "source": [
        "# %sql SELECT course  FROM tiny_df\n",
        "spark.sql(\"SELECT course FROM student_data\").show()"
      ]
    },
    {
      "cell_type": "code",
      "execution_count": 56,
      "metadata": {
        "application/vnd.databricks.v1+cell": {
          "cellMetadata": {
            "byteLimit": 2048000,
            "implicitDf": true,
            "rowLimit": 10000
          },
          "inputWidgets": {},
          "nuid": "183719a3-f85f-4370-80a4-3e9a159bbf05",
          "showTitle": false,
          "title": ""
        },
        "id": "CbnB5Q5fets1",
        "colab": {
          "base_uri": "https://localhost:8080/"
        },
        "outputId": "103b0a1d-b536-4c8a-8a7e-5f31df0104a7"
      },
      "outputs": [
        {
          "output_type": "stream",
          "name": "stdout",
          "text": [
            "+------+\n",
            "|course|\n",
            "+------+\n",
            "|    PF|\n",
            "|    DB|\n",
            "|   MVC|\n",
            "|   DSA|\n",
            "| Cloud|\n",
            "|   OOP|\n",
            "+------+\n",
            "\n"
          ]
        }
      ],
      "source": [
        "\"\"\"%sql SELECT course  FROM tiny_df\n",
        "GROUP BY course\"\"\"\n",
        "spark.sql(\"SELECT course  FROM student_data GROUP BY course\").show()"
      ]
    },
    {
      "cell_type": "code",
      "execution_count": 57,
      "metadata": {
        "application/vnd.databricks.v1+cell": {
          "cellMetadata": {
            "byteLimit": 2048000,
            "implicitDf": true,
            "rowLimit": 10000
          },
          "inputWidgets": {},
          "nuid": "6e0ddf0c-ddd8-4e0e-85bc-0b167f09de1d",
          "showTitle": false,
          "title": ""
        },
        "id": "50Ak5cPaets2",
        "colab": {
          "base_uri": "https://localhost:8080/"
        },
        "outputId": "2903f90c-d3b5-4502-b740-974463dea338"
      },
      "outputs": [
        {
          "output_type": "stream",
          "name": "stdout",
          "text": [
            "+------+-------------+\n",
            "|course|count(course)|\n",
            "+------+-------------+\n",
            "|    PF|          166|\n",
            "|    DB|          157|\n",
            "|   MVC|          157|\n",
            "|   DSA|          176|\n",
            "| Cloud|          192|\n",
            "|   OOP|          152|\n",
            "+------+-------------+\n",
            "\n"
          ]
        }
      ],
      "source": [
        "\"\"\"%sql SELECT course,count(course) FROM tiny_df\n",
        "GROUP BY course \"\"\"\n",
        "spark.sql(\"SELECT course, count(course) FROM student_data GROUP BY course\").show()\n"
      ]
    },
    {
      "cell_type": "code",
      "execution_count": 58,
      "metadata": {
        "application/vnd.databricks.v1+cell": {
          "cellMetadata": {
            "byteLimit": 2048000,
            "implicitDf": true,
            "rowLimit": 10000
          },
          "inputWidgets": {},
          "nuid": "b3f45693-f6d4-4f3c-9afb-c7e2a9a4c0f8",
          "showTitle": false,
          "title": ""
        },
        "id": "pA0apZJZets2",
        "colab": {
          "base_uri": "https://localhost:8080/"
        },
        "outputId": "ff9dd6e6-0ee0-447f-b70b-902a2586e4fb"
      },
      "outputs": [
        {
          "output_type": "stream",
          "name": "stdout",
          "text": [
            "+------+-----------------+\n",
            "|   sex|       avg(marks)|\n",
            "+------+-----------------+\n",
            "|Female|69.15369261477046|\n",
            "|  Male| 71.0440881763527|\n",
            "+------+-----------------+\n",
            "\n"
          ]
        }
      ],
      "source": [
        "\"\"\"%sql SELECT gender,avg(marks) FROM tiny_df\n",
        "GROUP BY gender\n",
        "ORDER BY gender;\"\"\"\n",
        "\n",
        "spark.sql(\"SELECT sex,avg(marks) FROM student_data GROUP BY sex ORDER BY sex\").show()"
      ]
    },
    {
      "cell_type": "code",
      "execution_count": 59,
      "metadata": {
        "application/vnd.databricks.v1+cell": {
          "cellMetadata": {
            "byteLimit": 2048000,
            "implicitDf": true,
            "rowLimit": 10000
          },
          "inputWidgets": {},
          "nuid": "e746c461-202a-4693-837a-3149d202f5d2",
          "showTitle": false,
          "title": ""
        },
        "id": "Q2jRKFP-ets2",
        "colab": {
          "base_uri": "https://localhost:8080/"
        },
        "outputId": "d761e13e-5a6a-4daf-f4a5-b195696c2f17"
      },
      "outputs": [
        {
          "output_type": "stream",
          "name": "stdout",
          "text": [
            "+------+----------+\n",
            "|   sex|max(marks)|\n",
            "+------+----------+\n",
            "|Female|       109|\n",
            "|  Male|       109|\n",
            "+------+----------+\n",
            "\n"
          ]
        }
      ],
      "source": [
        "\"\"\"%sql SELECT gender,max(marks) FROM tiny_df\n",
        "GROUP BY gender\n",
        "ORDER BY gender;\"\"\"\n",
        "\n",
        "spark.sql(\"SELECT sex, max(marks) FROM student_data GROUP BY sex ORDER BY sex\").show()"
      ]
    },
    {
      "cell_type": "code",
      "execution_count": 60,
      "metadata": {
        "application/vnd.databricks.v1+cell": {
          "cellMetadata": {
            "byteLimit": 2048000,
            "implicitDf": true,
            "rowLimit": 10000
          },
          "inputWidgets": {},
          "nuid": "94f7320f-5bc5-4354-96c4-c126f9f24de5",
          "showTitle": false,
          "title": ""
        },
        "id": "5PAA3Wouets2",
        "colab": {
          "base_uri": "https://localhost:8080/"
        },
        "outputId": "c08e9ef5-7508-49b3-a0d9-172e3b705edf"
      },
      "outputs": [
        {
          "output_type": "stream",
          "name": "stdout",
          "text": [
            "+-----------+\n",
            "|count(name)|\n",
            "+-----------+\n",
            "|       1000|\n",
            "+-----------+\n",
            "\n"
          ]
        }
      ],
      "source": [
        "# %sql select count(name) from tiny_df\n",
        "spark.sql(\"SELECT count(name) from student_data\").show()"
      ]
    },
    {
      "cell_type": "code",
      "execution_count": 61,
      "metadata": {
        "application/vnd.databricks.v1+cell": {
          "cellMetadata": {
            "byteLimit": 2048000,
            "implicitDf": true,
            "rowLimit": 10000
          },
          "inputWidgets": {},
          "nuid": "27651752-3cfc-46e4-8184-cd9230b99acb",
          "showTitle": false,
          "title": ""
        },
        "id": "RREl0efhets2",
        "colab": {
          "base_uri": "https://localhost:8080/"
        },
        "outputId": "cbf9c0a2-5b73-4b3f-e868-f6a47d31c134"
      },
      "outputs": [
        {
          "output_type": "stream",
          "name": "stdout",
          "text": [
            "+-----------+\n",
            "|count(name)|\n",
            "+-----------+\n",
            "|        630|\n",
            "+-----------+\n",
            "\n"
          ]
        }
      ],
      "source": [
        "\"\"\"%sql select count(name) from tiny_df\n",
        "where marks>60\"\"\"\n",
        "spark.sql(\"SELECT count(name) from student_data where marks>60\").show()"
      ]
    },
    {
      "cell_type": "code",
      "execution_count": 61,
      "metadata": {
        "application/vnd.databricks.v1+cell": {
          "cellMetadata": {},
          "inputWidgets": {},
          "nuid": "6e05e99c-f579-420b-901c-7f798c26dc72",
          "showTitle": false,
          "title": ""
        },
        "id": "Pi6zaHt9ets3"
      },
      "outputs": [],
      "source": []
    }
  ],
  "metadata": {
    "application/vnd.databricks.v1+notebook": {
      "dashboards": [],
      "language": "python",
      "notebookMetadata": {
        "mostRecentlyExecutedCommandWithImplicitDF": {
          "commandId": 2514531224522351,
          "dataframes": [
            "_sqldf"
          ]
        },
        "pythonIndentUnit": 4
      },
      "notebookName": "PySpark Dataframe-SQL",
      "widgets": {}
    },
    "kernelspec": {
      "display_name": "Python 3 (ipykernel)",
      "language": "python",
      "name": "python3"
    },
    "language_info": {
      "codemirror_mode": {
        "name": "ipython",
        "version": 3
      },
      "file_extension": ".py",
      "mimetype": "text/x-python",
      "name": "python",
      "nbconvert_exporter": "python",
      "pygments_lexer": "ipython3",
      "version": "3.10.9"
    },
    "colab": {
      "provenance": [],
      "include_colab_link": true
    }
  },
  "nbformat": 4,
  "nbformat_minor": 0
}